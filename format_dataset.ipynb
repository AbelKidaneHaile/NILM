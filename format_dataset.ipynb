{
 "cells": [
  {
   "cell_type": "markdown",
   "id": "3c5b4d1a",
   "metadata": {},
   "source": [
    "This code preprocesses the dataset preparation in such a way that all the files are ordered per date. The name and order of the files are the same with smart meter data (i.e. per smart meter data entry, the other columns are filled)"
   ]
  },
  {
   "cell_type": "markdown",
   "id": "28c14771",
   "metadata": {},
   "source": [
    "#### 1"
   ]
  },
  {
   "cell_type": "code",
   "execution_count": 1,
   "id": "e02250aa",
   "metadata": {},
   "outputs": [],
   "source": [
    "import os \n",
    "import pandas as pd\n",
    "import numpy as np\n",
    "import src\n",
    "from tqdm import tqdm\n",
    "from sklearn.model_selection import train_test_split"
   ]
  },
  {
   "cell_type": "code",
   "execution_count": 1,
   "id": "347e9b92",
   "metadata": {},
   "outputs": [],
   "source": [
    "# select household (id: 1-6)\n",
    "household_id = 1"
   ]
  },
  {
   "cell_type": "code",
   "execution_count": 41,
   "id": "c44915d0",
   "metadata": {},
   "outputs": [],
   "source": [
    "dataset = src.read_json(\"Dataset/dataset.json\")\n",
    "household = src.read_json(f\"Dataset/{dataset['files'][f'household_{household_id}']}\")\n",
    "household_tree = src.read_json(f\"Dataset/house_{household_id}/house_{household_id}_tree.json\")"
   ]
  },
  {
   "cell_type": "code",
   "execution_count": 42,
   "id": "cb19e718",
   "metadata": {},
   "outputs": [
    {
     "data": {
      "text/plain": [
       "['Fridge',\n",
       " 'Dryer',\n",
       " 'Coffee machine',\n",
       " 'Kettle',\n",
       " 'Washing machine',\n",
       " 'PC (including router)',\n",
       " 'Freezer']"
      ]
     },
     "execution_count": 42,
     "metadata": {},
     "output_type": "execute_result"
    }
   ],
   "source": [
    "plugs_columns = [household['plug_data']['plugs'][i]['appliance'] for i in household['plug_data']['plugs'].keys()]\n",
    "plugs_columns"
   ]
  },
  {
   "cell_type": "code",
   "execution_count": 43,
   "id": "258c783f",
   "metadata": {},
   "outputs": [
    {
     "data": {
      "text/plain": [
       "['powerallphases',\n",
       " 'powerl1',\n",
       " 'powerl2',\n",
       " 'powerl3',\n",
       " 'currentneutral',\n",
       " 'currentl1',\n",
       " 'currentl2',\n",
       " 'currentl3',\n",
       " 'voltagel1',\n",
       " 'voltagel2',\n",
       " 'voltagel3',\n",
       " 'phaseanglevoltagel2l1',\n",
       " 'phaseanglevoltagel3l1',\n",
       " 'phaseanglecurrentvoltagel1',\n",
       " 'phaseanglecurrentvoltagel2',\n",
       " 'phaseanglecurrentvoltagel3']"
      ]
     },
     "execution_count": 43,
     "metadata": {},
     "output_type": "execute_result"
    }
   ],
   "source": [
    "sm_columns = household['smart_meter_data']['columns']\n",
    "sm_columns"
   ]
  },
  {
   "cell_type": "code",
   "execution_count": 44,
   "id": "047a3273",
   "metadata": {},
   "outputs": [
    {
     "data": {
      "text/plain": [
       "dict_keys(['household_id', 'smart_meter_data', 'plug_data', 'occupancy_data'])"
      ]
     },
     "execution_count": 44,
     "metadata": {},
     "output_type": "execute_result"
    }
   ],
   "source": [
    "household.keys()"
   ]
  },
  {
   "cell_type": "code",
   "execution_count": 45,
   "id": "bc63da21",
   "metadata": {},
   "outputs": [],
   "source": [
    "path = f\"Dataset/house_{household_id}/0{household_id}_sm\"\n",
    "sm_files = src.list_files(path)"
   ]
  },
  {
   "cell_type": "code",
   "execution_count": 46,
   "id": "e4b287fc",
   "metadata": {},
   "outputs": [],
   "source": [
    "df_sm = pd.read_csv(f\"{path}/{sm_files[0]}\", header=None, names=sm_columns)"
   ]
  },
  {
   "cell_type": "code",
   "execution_count": 47,
   "id": "c92bfbc6",
   "metadata": {},
   "outputs": [
    {
     "data": {
      "text/plain": [
       "'2012-10-12'"
      ]
     },
     "execution_count": 47,
     "metadata": {},
     "output_type": "execute_result"
    }
   ],
   "source": [
    "sm_files[0][:-4]"
   ]
  },
  {
   "cell_type": "code",
   "execution_count": 48,
   "id": "1de57e4e",
   "metadata": {},
   "outputs": [
    {
     "data": {
      "text/html": [
       "<div>\n",
       "<style scoped>\n",
       "    .dataframe tbody tr th:only-of-type {\n",
       "        vertical-align: middle;\n",
       "    }\n",
       "\n",
       "    .dataframe tbody tr th {\n",
       "        vertical-align: top;\n",
       "    }\n",
       "\n",
       "    .dataframe thead th {\n",
       "        text-align: right;\n",
       "    }\n",
       "</style>\n",
       "<table border=\"1\" class=\"dataframe\">\n",
       "  <thead>\n",
       "    <tr style=\"text-align: right;\">\n",
       "      <th></th>\n",
       "      <th>Fridge</th>\n",
       "      <th>Dryer</th>\n",
       "      <th>Coffee machine</th>\n",
       "      <th>Kettle</th>\n",
       "      <th>Washing machine</th>\n",
       "      <th>PC (including router)</th>\n",
       "      <th>Freezer</th>\n",
       "    </tr>\n",
       "  </thead>\n",
       "  <tbody>\n",
       "  </tbody>\n",
       "</table>\n",
       "</div>"
      ],
      "text/plain": [
       "Empty DataFrame\n",
       "Columns: [Fridge, Dryer, Coffee machine, Kettle, Washing machine, PC (including router), Freezer]\n",
       "Index: []"
      ]
     },
     "execution_count": 48,
     "metadata": {},
     "output_type": "execute_result"
    }
   ],
   "source": [
    "df_plugs = pd.DataFrame(columns=plugs_columns)\n",
    "df_plugs"
   ]
  },
  {
   "cell_type": "code",
   "execution_count": 49,
   "id": "ccfbe2b3",
   "metadata": {},
   "outputs": [
    {
     "data": {
      "text/plain": [
       "['Fridge',\n",
       " 'Dryer',\n",
       " 'Coffee machine',\n",
       " 'Kettle',\n",
       " 'Washing machine',\n",
       " 'PC (including router)',\n",
       " 'Freezer']"
      ]
     },
     "execution_count": 49,
     "metadata": {},
     "output_type": "execute_result"
    }
   ],
   "source": [
    "plugs_columns "
   ]
  },
  {
   "cell_type": "code",
   "execution_count": null,
   "id": "86fa8a1b",
   "metadata": {},
   "outputs": [
    {
     "name": "stderr",
     "output_type": "stream",
     "text": [
      "100%|██████████| 245/245 [02:44<00:00,  1.49it/s]\n"
     ]
    }
   ],
   "source": [
    "file_saving_path = f\"Dataset/house_{household_id}/formatted_data/Original\"\n",
    "# use plugs_columns \n",
    "path_plugs = f\"Dataset/house_{household_id}/0{household_id}_plugs\"\n",
    "# for sm_file in tqdm(sm_files):\n",
    "#     df_sm = pd.read_csv(f\"{path}/{sm_file}\", header=None, names=sm_columns)\n",
    "#     sm_date = sm_file[:-4]\n",
    "#     df_plugs = pd.DataFrame(columns=plugs_columns)\n",
    "\n",
    "#     for i in range(1,8):\n",
    "#         plug_file = f\"{path_plugs}/0{i}/{sm_file}\"\n",
    "#         check = src.file_exists(plug_file)\n",
    "#         if check:\n",
    "#             df_plug = pd.read_csv(plug_file, header=None, names=[plugs_columns[i-1]])\n",
    "#             df_sm[plugs_columns[i-1]] = df_plug[plugs_columns[i-1]]\n",
    "#         else:  \n",
    "#             df_sm[plugs_columns[i-1]] = np.nan  \n",
    "    \n",
    "#     # save the file\n",
    "#     full_path = os.path.join(file_saving_path, sm_file)\n",
    "#     df_sm.to_csv(full_path, index=False)                            "
   ]
  },
  {
   "cell_type": "code",
   "execution_count": null,
   "id": "4d3c5535",
   "metadata": {},
   "outputs": [],
   "source": [
    "# neglect occupancy data for now\n",
    "# df_occupancy_summer = pd.read_csv(f\"Dataset/house_{household_id}/0{household_id}_occupancy/01_summer.csv\", index_col=0)\n",
    "# df_occupancy_winter = pd.read_csv(f\"Dataset/house_{household_id}/0{household_id}_occupancy/01_winter.csv\", index_col=0)\n",
    "# df_occupancy_summer.index = pd.to_datetime(df_occupancy_summer.index, format='%d-%b-%Y').strftime('%Y-%m-%d')\n",
    "# df_occupancy_winter.index = pd.to_datetime(df_occupancy_winter.index, format='%d-%b-%Y').strftime('%Y-%m-%d')\n",
    "# df_occupancy_summer.head()"
   ]
  },
  {
   "cell_type": "code",
   "execution_count": 20,
   "id": "30443c8b",
   "metadata": {},
   "outputs": [],
   "source": [
    "# src.file_exists() # dir , filename"
   ]
  },
  {
   "cell_type": "code",
   "execution_count": 21,
   "id": "2baf9a5f",
   "metadata": {},
   "outputs": [],
   "source": [
    "# plugs\n",
    "path_plugs = f\"Dataset/house_{household_id}/0{household_id}_plugs\"\n",
    "plugs = []"
   ]
  },
  {
   "cell_type": "code",
   "execution_count": null,
   "id": "1b44ef79",
   "metadata": {},
   "outputs": [
    {
     "name": "stdout",
     "output_type": "stream",
     "text": [
      "Dataset/house_1/01_plugs/01\n",
      "True\n",
      "Dataset/house_1/01_plugs/02\n",
      "True\n",
      "Dataset/house_1/01_plugs/03\n",
      "True\n",
      "Dataset/house_1/01_plugs/04\n",
      "True\n",
      "Dataset/house_1/01_plugs/05\n",
      "True\n",
      "Dataset/house_1/01_plugs/06\n",
      "False\n",
      "Dataset/house_1/01_plugs/07\n",
      "True\n"
     ]
    }
   ],
   "source": [
    "for i in range(1,8):\n",
    "    # print(f\"{path_plugs}/0{i}\")\n",
    "    check = src.file_exists(f\"{path_plugs}/0{i}\",f\"{sm_file}\" ) # dir , filename\n",
    "    print(check)"
   ]
  },
  {
   "cell_type": "code",
   "execution_count": null,
   "metadata": {},
   "outputs": [],
   "source": []
  },
  {
   "cell_type": "markdown",
   "id": "8f94bd38",
   "metadata": {},
   "source": [
    "Convert the plug data to binary"
   ]
  },
  {
   "cell_type": "code",
   "execution_count": 3,
   "id": "e7990389",
   "metadata": {},
   "outputs": [],
   "source": [
    "household_id = 1\n",
    "path_original = f\"Dataset/house_{household_id}/formatted_data/Original\"\n",
    "plug_files = src.list_files(path_original)"
   ]
  },
  {
   "cell_type": "code",
   "execution_count": 75,
   "id": "952d7825",
   "metadata": {},
   "outputs": [],
   "source": [
    "def transform_appliance_value(x):\n",
    "    if pd.isna(x):  \n",
    "        return 0\n",
    "    elif x == 0:\n",
    "        return 0\n",
    "    elif x > 1:\n",
    "        return 1\n",
    "    else:\n",
    "        return x "
   ]
  },
  {
   "cell_type": "code",
   "execution_count": null,
   "id": "3150f2ae",
   "metadata": {},
   "outputs": [
    {
     "name": "stderr",
     "output_type": "stream",
     "text": [
      "100%|██████████| 245/245 [03:11<00:00,  1.28it/s]\n"
     ]
    }
   ],
   "source": [
    "saving_path = f\"Dataset/house_{household_id}/formatted_data/Classification/fillednull\"\n",
    "# for plug_file in tqdm(plug_files):\n",
    "    \n",
    "#     df = pd.read_csv(f\"{path_original}/{plug_file}\")\n",
    "#     df[plugs_columns] = df[plugs_columns].map(transform_appliance_value)\n",
    "#     df.to_csv(f\"{saving_path}/{plug_file}\", index=False)"
   ]
  },
  {
   "cell_type": "code",
   "execution_count": 3,
   "id": "ac728eac",
   "metadata": {},
   "outputs": [],
   "source": [
    "fillednull_files_path = f\"Dataset/house_{household_id}/formatted_data/Classification/fillednull\"\n",
    "fillednull_files = src.list_files(f\"{fillednull_files_path}\")"
   ]
  },
  {
   "cell_type": "code",
   "execution_count": null,
   "id": "783bf034",
   "metadata": {},
   "outputs": [
    {
     "name": "stderr",
     "output_type": "stream",
     "text": [
      "100%|██████████| 245/245 [00:47<00:00,  5.21it/s]\n"
     ]
    }
   ],
   "source": [
    "# dataframes = []\n",
    "# for fillednull_file in tqdm(fillednull_files):\n",
    "#     df = pd.read_csv(f\"{fillednull_files_path}/{fillednull_file}\")\n",
    "#     dataframes.append(df)\n",
    "    \n",
    "# full_df = pd.concat(dataframes, ignore_index=True)"
   ]
  },
  {
   "cell_type": "code",
   "execution_count": 5,
   "id": "3d6d9b79",
   "metadata": {},
   "outputs": [],
   "source": [
    "full_df.to_csv(f\"full_data_house1.csv\", index=False)"
   ]
  },
  {
   "cell_type": "markdown",
   "id": "9e7b984a",
   "metadata": {},
   "source": [
    "### 2"
   ]
  },
  {
   "cell_type": "code",
   "execution_count": 1,
   "id": "ef17ebd8",
   "metadata": {},
   "outputs": [],
   "source": [
    "import os \n",
    "import pandas as pd\n",
    "import numpy as np\n",
    "import src\n",
    "from tqdm import tqdm\n",
    "from sklearn.model_selection import train_test_split"
   ]
  },
  {
   "cell_type": "code",
   "execution_count": 2,
   "id": "ae909b8e",
   "metadata": {},
   "outputs": [
    {
     "ename": "",
     "evalue": "",
     "output_type": "error",
     "traceback": [
      "\u001b[1;31mThe Kernel crashed while executing code in the current cell or a previous cell. \n",
      "\u001b[1;31mPlease review the code in the cell(s) to identify a possible cause of the failure. \n",
      "\u001b[1;31mClick <a href='https://aka.ms/vscodeJupyterKernelCrash'>here</a> for more info. \n",
      "\u001b[1;31mView Jupyter <a href='command:jupyter.viewOutput'>log</a> for further details."
     ]
    }
   ],
   "source": [
    "full_df = pd.read_csv(f\"full_data_house1.csv\")"
   ]
  },
  {
   "cell_type": "code",
   "execution_count": null,
   "id": "9d8dfb60",
   "metadata": {},
   "outputs": [
    {
     "ename": "",
     "evalue": "",
     "output_type": "error",
     "traceback": [
      "\u001b[1;31mThe Kernel crashed while executing code in the current cell or a previous cell. \n",
      "\u001b[1;31mPlease review the code in the cell(s) to identify a possible cause of the failure. \n",
      "\u001b[1;31mClick <a href='https://aka.ms/vscodeJupyterKernelCrash'>here</a> for more info. \n",
      "\u001b[1;31mView Jupyter <a href='command:jupyter.viewOutput'>log</a> for further details."
     ]
    }
   ],
   "source": [
    "train_df, test_df = train_test_split(full_df, test_size=0.3, random_state=42)"
   ]
  },
  {
   "cell_type": "code",
   "execution_count": null,
   "id": "10072c58",
   "metadata": {},
   "outputs": [],
   "source": [
    "train_df.to_csv(f\"train_data_house1.csv\", index=False)\n",
    "test_df.to_csv(f\"test_data_house1.csv\", index=False)"
   ]
  },
  {
   "cell_type": "code",
   "execution_count": null,
   "id": "26b4c142",
   "metadata": {},
   "outputs": [],
   "source": [
    "full_df.isnull().any(axis=1).sum()"
   ]
  },
  {
   "cell_type": "code",
   "execution_count": null,
   "id": "edb1b737",
   "metadata": {},
   "outputs": [],
   "source": [
    "full_df.head()"
   ]
  },
  {
   "cell_type": "code",
   "execution_count": null,
   "id": "713c52f6",
   "metadata": {},
   "outputs": [],
   "source": []
  }
 ],
 "metadata": {
  "kernelspec": {
   "display_name": "nilm",
   "language": "python",
   "name": "python3"
  },
  "language_info": {
   "codemirror_mode": {
    "name": "ipython",
    "version": 3
   },
   "file_extension": ".py",
   "mimetype": "text/x-python",
   "name": "python",
   "nbconvert_exporter": "python",
   "pygments_lexer": "ipython3",
   "version": "3.11.13"
  }
 },
 "nbformat": 4,
 "nbformat_minor": 5
}
