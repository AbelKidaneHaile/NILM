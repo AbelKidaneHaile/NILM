{
 "cells": [
  {
   "cell_type": "markdown",
   "id": "0abb04c7",
   "metadata": {},
   "source": [
    "### Training a model on house-1 data only with the Null values filled as 0."
   ]
  },
  {
   "cell_type": "code",
   "execution_count": 11,
   "id": "6b1b2717",
   "metadata": {},
   "outputs": [],
   "source": [
    "import pandas as pd \n",
    "import json \n",
    "import src\n",
    "from sklearn.model_selection import train_test_split"
   ]
  },
  {
   "cell_type": "code",
   "execution_count": 2,
   "id": "bb7db0da",
   "metadata": {},
   "outputs": [],
   "source": [
    "household_id = 1"
   ]
  },
  {
   "cell_type": "code",
   "execution_count": 3,
   "id": "b5a31688",
   "metadata": {},
   "outputs": [],
   "source": [
    "dataset = src.read_json(\"Dataset/dataset.json\")\n",
    "household = src.read_json(f\"Dataset/{dataset['files'][f'household_{household_id}']}\")"
   ]
  },
  {
   "cell_type": "code",
   "execution_count": 4,
   "id": "828e62ff",
   "metadata": {},
   "outputs": [
    {
     "data": {
      "text/plain": [
       "['Fridge',\n",
       " 'Dryer',\n",
       " 'Coffee machine',\n",
       " 'Kettle',\n",
       " 'Washing machine',\n",
       " 'PC (including router)',\n",
       " 'Freezer']"
      ]
     },
     "execution_count": 4,
     "metadata": {},
     "output_type": "execute_result"
    }
   ],
   "source": [
    "plugs_columns = [household['plug_data']['plugs'][i]['appliance'] for i in household['plug_data']['plugs'].keys()]\n",
    "plugs_columns "
   ]
  },
  {
   "cell_type": "code",
   "execution_count": 5,
   "id": "59816532",
   "metadata": {},
   "outputs": [],
   "source": [
    "df = pd.read_csv(\"dataset/house_1/2012-06-26.csv\")"
   ]
  },
  {
   "cell_type": "code",
   "execution_count": 10,
   "id": "f68aeaf9",
   "metadata": {},
   "outputs": [
    {
     "data": {
      "text/html": [
       "<div>\n",
       "<style scoped>\n",
       "    .dataframe tbody tr th:only-of-type {\n",
       "        vertical-align: middle;\n",
       "    }\n",
       "\n",
       "    .dataframe tbody tr th {\n",
       "        vertical-align: top;\n",
       "    }\n",
       "\n",
       "    .dataframe thead th {\n",
       "        text-align: right;\n",
       "    }\n",
       "</style>\n",
       "<table border=\"1\" class=\"dataframe\">\n",
       "  <thead>\n",
       "    <tr style=\"text-align: right;\">\n",
       "      <th></th>\n",
       "      <th>powerallphases</th>\n",
       "      <th>powerl1</th>\n",
       "      <th>powerl2</th>\n",
       "      <th>powerl3</th>\n",
       "      <th>currentneutral</th>\n",
       "      <th>currentl1</th>\n",
       "      <th>currentl2</th>\n",
       "      <th>currentl3</th>\n",
       "      <th>voltagel1</th>\n",
       "      <th>voltagel2</th>\n",
       "      <th>...</th>\n",
       "      <th>phaseanglecurrentvoltagel1</th>\n",
       "      <th>phaseanglecurrentvoltagel2</th>\n",
       "      <th>phaseanglecurrentvoltagel3</th>\n",
       "      <th>Fridge</th>\n",
       "      <th>Dryer</th>\n",
       "      <th>Coffee machine</th>\n",
       "      <th>Kettle</th>\n",
       "      <th>Washing machine</th>\n",
       "      <th>PC (including router)</th>\n",
       "      <th>Freezer</th>\n",
       "    </tr>\n",
       "  </thead>\n",
       "  <tbody>\n",
       "    <tr>\n",
       "      <th>0</th>\n",
       "      <td>90</td>\n",
       "      <td>60</td>\n",
       "      <td>20</td>\n",
       "      <td>10</td>\n",
       "      <td>0.3</td>\n",
       "      <td>0.4</td>\n",
       "      <td>0.2</td>\n",
       "      <td>0.1</td>\n",
       "      <td>241.6</td>\n",
       "      <td>241</td>\n",
       "      <td>...</td>\n",
       "      <td>321</td>\n",
       "      <td>297</td>\n",
       "      <td>293</td>\n",
       "      <td>2.20578</td>\n",
       "      <td>0.0000</td>\n",
       "      <td>0.0</td>\n",
       "      <td>0.0</td>\n",
       "      <td>0.0</td>\n",
       "      <td>10.88240</td>\n",
       "      <td>32.4316</td>\n",
       "    </tr>\n",
       "    <tr>\n",
       "      <th>1</th>\n",
       "      <td>90</td>\n",
       "      <td>60</td>\n",
       "      <td>20</td>\n",
       "      <td>10</td>\n",
       "      <td>0.3</td>\n",
       "      <td>0.4</td>\n",
       "      <td>0.2</td>\n",
       "      <td>0.1</td>\n",
       "      <td>241.6</td>\n",
       "      <td>241</td>\n",
       "      <td>...</td>\n",
       "      <td>321</td>\n",
       "      <td>297</td>\n",
       "      <td>293</td>\n",
       "      <td>2.20578</td>\n",
       "      <td>2.1906</td>\n",
       "      <td>0.0</td>\n",
       "      <td>0.0</td>\n",
       "      <td>0.0</td>\n",
       "      <td>10.88240</td>\n",
       "      <td>32.4316</td>\n",
       "    </tr>\n",
       "    <tr>\n",
       "      <th>2</th>\n",
       "      <td>90</td>\n",
       "      <td>60</td>\n",
       "      <td>20</td>\n",
       "      <td>10</td>\n",
       "      <td>0.3</td>\n",
       "      <td>0.4</td>\n",
       "      <td>0.2</td>\n",
       "      <td>0.1</td>\n",
       "      <td>241.6</td>\n",
       "      <td>241</td>\n",
       "      <td>...</td>\n",
       "      <td>321</td>\n",
       "      <td>297</td>\n",
       "      <td>293</td>\n",
       "      <td>0.00000</td>\n",
       "      <td>0.0000</td>\n",
       "      <td>0.0</td>\n",
       "      <td>0.0</td>\n",
       "      <td>0.0</td>\n",
       "      <td>10.88240</td>\n",
       "      <td>32.4316</td>\n",
       "    </tr>\n",
       "    <tr>\n",
       "      <th>3</th>\n",
       "      <td>90</td>\n",
       "      <td>60</td>\n",
       "      <td>20</td>\n",
       "      <td>10</td>\n",
       "      <td>0.3</td>\n",
       "      <td>0.4</td>\n",
       "      <td>0.2</td>\n",
       "      <td>0.1</td>\n",
       "      <td>241.6</td>\n",
       "      <td>241</td>\n",
       "      <td>...</td>\n",
       "      <td>321</td>\n",
       "      <td>296</td>\n",
       "      <td>293</td>\n",
       "      <td>2.20578</td>\n",
       "      <td>0.0000</td>\n",
       "      <td>0.0</td>\n",
       "      <td>0.0</td>\n",
       "      <td>0.0</td>\n",
       "      <td>8.72955</td>\n",
       "      <td>32.4316</td>\n",
       "    </tr>\n",
       "    <tr>\n",
       "      <th>4</th>\n",
       "      <td>90</td>\n",
       "      <td>60</td>\n",
       "      <td>20</td>\n",
       "      <td>10</td>\n",
       "      <td>0.3</td>\n",
       "      <td>0.4</td>\n",
       "      <td>0.2</td>\n",
       "      <td>0.1</td>\n",
       "      <td>241.6</td>\n",
       "      <td>241</td>\n",
       "      <td>...</td>\n",
       "      <td>321</td>\n",
       "      <td>297</td>\n",
       "      <td>293</td>\n",
       "      <td>0.00000</td>\n",
       "      <td>0.0000</td>\n",
       "      <td>0.0</td>\n",
       "      <td>0.0</td>\n",
       "      <td>0.0</td>\n",
       "      <td>8.72955</td>\n",
       "      <td>32.4316</td>\n",
       "    </tr>\n",
       "  </tbody>\n",
       "</table>\n",
       "<p>5 rows × 23 columns</p>\n",
       "</div>"
      ],
      "text/plain": [
       "   powerallphases  powerl1  powerl2  powerl3  currentneutral  currentl1  \\\n",
       "0              90       60       20       10             0.3        0.4   \n",
       "1              90       60       20       10             0.3        0.4   \n",
       "2              90       60       20       10             0.3        0.4   \n",
       "3              90       60       20       10             0.3        0.4   \n",
       "4              90       60       20       10             0.3        0.4   \n",
       "\n",
       "   currentl2  currentl3  voltagel1  voltagel2  ...  \\\n",
       "0        0.2        0.1      241.6        241  ...   \n",
       "1        0.2        0.1      241.6        241  ...   \n",
       "2        0.2        0.1      241.6        241  ...   \n",
       "3        0.2        0.1      241.6        241  ...   \n",
       "4        0.2        0.1      241.6        241  ...   \n",
       "\n",
       "   phaseanglecurrentvoltagel1  phaseanglecurrentvoltagel2  \\\n",
       "0                         321                         297   \n",
       "1                         321                         297   \n",
       "2                         321                         297   \n",
       "3                         321                         296   \n",
       "4                         321                         297   \n",
       "\n",
       "   phaseanglecurrentvoltagel3   Fridge   Dryer  Coffee machine  Kettle  \\\n",
       "0                         293  2.20578  0.0000             0.0     0.0   \n",
       "1                         293  2.20578  2.1906             0.0     0.0   \n",
       "2                         293  0.00000  0.0000             0.0     0.0   \n",
       "3                         293  2.20578  0.0000             0.0     0.0   \n",
       "4                         293  0.00000  0.0000             0.0     0.0   \n",
       "\n",
       "   Washing machine  PC (including router)  Freezer  \n",
       "0              0.0               10.88240  32.4316  \n",
       "1              0.0               10.88240  32.4316  \n",
       "2              0.0               10.88240  32.4316  \n",
       "3              0.0                8.72955  32.4316  \n",
       "4              0.0                8.72955  32.4316  \n",
       "\n",
       "[5 rows x 23 columns]"
      ]
     },
     "execution_count": 10,
     "metadata": {},
     "output_type": "execute_result"
    }
   ],
   "source": [
    "df.head()"
   ]
  },
  {
   "cell_type": "code",
   "execution_count": 9,
   "id": "42d23757",
   "metadata": {},
   "outputs": [
    {
     "data": {
      "text/plain": [
       "powerallphases                False\n",
       "powerl1                       False\n",
       "powerl2                       False\n",
       "powerl3                       False\n",
       "currentneutral                False\n",
       "currentl1                     False\n",
       "currentl2                     False\n",
       "currentl3                     False\n",
       "voltagel1                     False\n",
       "voltagel2                     False\n",
       "voltagel3                     False\n",
       "phaseanglevoltagel2l1         False\n",
       "phaseanglevoltagel3l1         False\n",
       "phaseanglecurrentvoltagel1    False\n",
       "phaseanglecurrentvoltagel2    False\n",
       "phaseanglecurrentvoltagel3    False\n",
       "Fridge                        False\n",
       "Dryer                         False\n",
       "Coffee machine                False\n",
       "Kettle                        False\n",
       "Washing machine               False\n",
       "PC (including router)         False\n",
       "Freezer                       False\n",
       "dtype: bool"
      ]
     },
     "execution_count": 9,
     "metadata": {},
     "output_type": "execute_result"
    }
   ],
   "source": [
    "df.isnull().any()"
   ]
  },
  {
   "cell_type": "code",
   "execution_count": 12,
   "id": "6767d0c9",
   "metadata": {},
   "outputs": [],
   "source": [
    "train_df, test_df = train_test_split(df, test_size=0.3, random_state=42, shuffle=True)"
   ]
  },
  {
   "cell_type": "code",
   "execution_count": 13,
   "id": "16ffe501",
   "metadata": {},
   "outputs": [],
   "source": [
    "DATA_DIR = \"dataset/house_1\"\n",
    "train_df.to_csv(f'{DATA_DIR}/train_data.csv', index=False)\n",
    "test_df.to_csv(f'{DATA_DIR}/test_data.csv', index=False)"
   ]
  },
  {
   "cell_type": "code",
   "execution_count": null,
   "id": "de954929",
   "metadata": {},
   "outputs": [],
   "source": []
  },
  {
   "cell_type": "code",
   "execution_count": null,
   "id": "2aa5dc42",
   "metadata": {},
   "outputs": [],
   "source": []
  }
 ],
 "metadata": {
  "kernelspec": {
   "display_name": "nilm",
   "language": "python",
   "name": "python3"
  },
  "language_info": {
   "codemirror_mode": {
    "name": "ipython",
    "version": 3
   },
   "file_extension": ".py",
   "mimetype": "text/x-python",
   "name": "python",
   "nbconvert_exporter": "python",
   "pygments_lexer": "ipython3",
   "version": "3.11.13"
  }
 },
 "nbformat": 4,
 "nbformat_minor": 5
}
