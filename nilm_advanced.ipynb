{
 "cells": [
  {
   "cell_type": "markdown",
   "id": "ecbc0f02",
   "metadata": {},
   "source": [
    "## Non Intrusive Load Monitoring (NILM) "
   ]
  },
  {
   "cell_type": "markdown",
   "id": "8fefba00",
   "metadata": {},
   "source": [
    "Smart meter data can be used to predict which appliances are turned on in a household. The following code is an implementation of NILM to predict which appliances are turned on/off applied on the 2014 ECO dataset from ETCH Zurich. For simiplicity, only a sample from household 1 is considered. Occupancy data and date/time/season based analysis is not considered in the development of this model. The smart meter data is directly used while the plugs data is converted to binary with 1 meaning on and 0 meaning off. "
   ]
  },
  {
   "cell_type": "markdown",
   "id": "b067adc9",
   "metadata": {},
   "source": [
    "### Imports and preparations"
   ]
  },
  {
   "cell_type": "code",
   "execution_count": 1,
   "id": "d26053fa",
   "metadata": {},
   "outputs": [],
   "source": [
    "# list of imports\n",
    "import numpy as np\n",
    "import pandas as pd\n",
    "import os \n",
    "import matplotlib.pyplot as plt\n",
    "from sklearn.metrics import (\n",
    "    accuracy_score,\n",
    "    average_precision_score,\n",
    "    classification_report,\n",
    "    f1_score,\n",
    "    multilabel_confusion_matrix,\n",
    "    precision_score,\n",
    "    recall_score,\n",
    ")\n",
    "from sklearn.model_selection import train_test_split\n",
    "from sklearn.preprocessing import StandardScaler\n",
    "import torch\n",
    "from torch import nn\n",
    "from torch.utils.data import DataLoader, Dataset\n",
    "from tqdm import tqdm\n",
    "\n",
    "import src  # custom source code that has a lot of useful functions "
   ]
  },
  {
   "cell_type": "markdown",
   "id": "d39126f0",
   "metadata": {},
   "source": [
    "#### Downloading the dataset"
   ]
  },
  {
   "cell_type": "markdown",
   "id": "d05f3d5e",
   "metadata": {},
   "source": [
    "The data should be downloaded from the following link:- https://app.data-archive.ethz.ch/delivery/DeliveryManagerServlet?dps_pid=IE594964"
   ]
  },
  {
   "cell_type": "markdown",
   "id": "aac81933",
   "metadata": {},
   "source": [
    "### Initial Preprocessing and Analysis"
   ]
  },
  {
   "cell_type": "markdown",
   "id": "aaf6a865",
   "metadata": {},
   "source": [
    "Configurations"
   ]
  },
  {
   "cell_type": "code",
   "execution_count": 2,
   "id": "7f37afb3",
   "metadata": {},
   "outputs": [],
   "source": [
    "# select household (id: 1-6)\n",
    "household_id = 1"
   ]
  },
  {
   "cell_type": "code",
   "execution_count": 3,
   "id": "0d7289fa",
   "metadata": {},
   "outputs": [],
   "source": [
    "# using json files for a simpler loading of the dataset\n",
    "dataset = src.read_json(\"Dataset/dataset.json\") \n",
    "household = src.read_json(f\"Dataset/{dataset['files'][f'household_{household_id}']}\")"
   ]
  },
  {
   "cell_type": "code",
   "execution_count": 4,
   "id": "822790ac",
   "metadata": {},
   "outputs": [
    {
     "data": {
      "text/plain": [
       "{'description': 'Index of ECO dataset household metadata JSON files',\n",
       " 'dataset': 'ECO',\n",
       " 'files': {'household_1': 'house_1/house_1.json',\n",
       "  'household_2': 'house_2/house_2.json',\n",
       "  'household_3': 'house_3/house_3.json',\n",
       "  'household_4': 'house_4/house_4.json',\n",
       "  'household_5': 'house_5/house_5.json',\n",
       "  'household_6': 'house_6/house_6.json'}}"
      ]
     },
     "execution_count": 4,
     "metadata": {},
     "output_type": "execute_result"
    }
   ],
   "source": [
    "dataset # dataset has the folder paths for the households"
   ]
  },
  {
   "cell_type": "code",
   "execution_count": 5,
   "id": "a1f4d4a1",
   "metadata": {},
   "outputs": [
    {
     "data": {
      "text/plain": [
       "{'household_id': 1,\n",
       " 'smart_meter_data': {'measurement_period': {'start_date': '2012-06-01',\n",
       "   'end_date': '2013-01-31'},\n",
       "  'days_recorded': 245,\n",
       "  'coverage_percent': 99.64,\n",
       "  'sampling_rate': '1 second',\n",
       "  'rows_per_day': 86400,\n",
       "  'missing_value_indicator': -1,\n",
       "  'columns': ['powerallphases',\n",
       "   'powerl1',\n",
       "   'powerl2',\n",
       "   'powerl3',\n",
       "   'currentneutral',\n",
       "   'currentl1',\n",
       "   'currentl2',\n",
       "   'currentl3',\n",
       "   'voltagel1',\n",
       "   'voltagel2',\n",
       "   'voltagel3',\n",
       "   'phaseanglevoltagel2l1',\n",
       "   'phaseanglevoltagel3l1',\n",
       "   'phaseanglecurrentvoltagel1',\n",
       "   'phaseanglecurrentvoltagel2',\n",
       "   'phaseanglecurrentvoltagel3']},\n",
       " 'plug_data': {'measurement_period': {'start_date': '2012-06-01',\n",
       "   'end_date': '2013-01-23'},\n",
       "  'sampling_rate': '1 second',\n",
       "  'rows_per_day': 86400,\n",
       "  'columns': ['consumption'],\n",
       "  'plugs': {'01': {'appliance': 'Fridge',\n",
       "    'days_recorded': 231,\n",
       "    'coverage_percent': 98.53},\n",
       "   '02': {'appliance': 'Dryer',\n",
       "    'days_recorded': 231,\n",
       "    'coverage_percent': 98.56},\n",
       "   '03': {'appliance': 'Coffee machine',\n",
       "    'days_recorded': 113,\n",
       "    'coverage_percent': 85.36},\n",
       "   '04': {'appliance': 'Kettle',\n",
       "    'days_recorded': 203,\n",
       "    'coverage_percent': 77.65},\n",
       "   '05': {'appliance': 'Washing machine',\n",
       "    'days_recorded': 231,\n",
       "    'coverage_percent': 98.56},\n",
       "   '06': {'appliance': 'PC (including router)',\n",
       "    'days_recorded': 66,\n",
       "    'coverage_percent': 84.77},\n",
       "   '07': {'appliance': 'Freezer',\n",
       "    'days_recorded': 231,\n",
       "    'coverage_percent': 98.56}}},\n",
       " 'occupancy_data': {'files': ['01_summer.csv', '01_winter.csv'],\n",
       "  'columns_per_row': 86401,\n",
       "  'sampling_rate': '1 second'}}"
      ]
     },
     "execution_count": 5,
     "metadata": {},
     "output_type": "execute_result"
    }
   ],
   "source": [
    "household # household is a dict that has all the necessary details on the household # dataset"
   ]
  },
  {
   "cell_type": "code",
   "execution_count": 6,
   "id": "953748e0",
   "metadata": {},
   "outputs": [
    {
     "data": {
      "text/plain": [
       "['Fridge',\n",
       " 'Dryer',\n",
       " 'Coffee machine',\n",
       " 'Kettle',\n",
       " 'Washing machine',\n",
       " 'PC (including router)',\n",
       " 'Freezer']"
      ]
     },
     "execution_count": 6,
     "metadata": {},
     "output_type": "execute_result"
    }
   ],
   "source": [
    "plugs_columns = [household['plug_data']['plugs'][i]['appliance'] for i in household['plug_data']['plugs'].keys()]\n",
    "plugs_columns # display the names of appliances for the respective household"
   ]
  },
  {
   "cell_type": "code",
   "execution_count": 7,
   "id": "65ecca75",
   "metadata": {},
   "outputs": [
    {
     "data": {
      "text/plain": [
       "['powerallphases',\n",
       " 'powerl1',\n",
       " 'powerl2',\n",
       " 'powerl3',\n",
       " 'currentneutral',\n",
       " 'currentl1',\n",
       " 'currentl2',\n",
       " 'currentl3',\n",
       " 'voltagel1',\n",
       " 'voltagel2',\n",
       " 'voltagel3',\n",
       " 'phaseanglevoltagel2l1',\n",
       " 'phaseanglevoltagel3l1',\n",
       " 'phaseanglecurrentvoltagel1',\n",
       " 'phaseanglecurrentvoltagel2',\n",
       " 'phaseanglecurrentvoltagel3']"
      ]
     },
     "execution_count": 7,
     "metadata": {},
     "output_type": "execute_result"
    }
   ],
   "source": [
    "sm_columns = household['smart_meter_data']['columns']\n",
    "sm_columns # display the names of smart meter data columns"
   ]
  },
  {
   "cell_type": "code",
   "execution_count": 8,
   "id": "45bc5c64",
   "metadata": {},
   "outputs": [],
   "source": [
    "path = f\"Dataset/house_{household_id}/0{household_id}_sm\"\n",
    "sm_files = src.list_files(path) # list of all the smart meter data excel files, each file is for 1 day containing 86400 rows"
   ]
  },
  {
   "cell_type": "code",
   "execution_count": 9,
   "id": "7914396d",
   "metadata": {},
   "outputs": [
    {
     "data": {
      "text/plain": [
       "245"
      ]
     },
     "execution_count": 9,
     "metadata": {},
     "output_type": "execute_result"
    }
   ],
   "source": [
    "len(sm_files) # this corresponds for a period of 8 months"
   ]
  },
  {
   "cell_type": "markdown",
   "id": "31938456",
   "metadata": {},
   "source": [
    "Let's take a sample file for a single day for household-1. The date format is year-month-day"
   ]
  },
  {
   "cell_type": "code",
   "execution_count": 10,
   "id": "ada08bac",
   "metadata": {},
   "outputs": [
    {
     "data": {
      "text/plain": [
       "'2012-06-26.csv'"
      ]
     },
     "execution_count": 10,
     "metadata": {},
     "output_type": "execute_result"
    }
   ],
   "source": [
    "sm_file = sm_files[1]\n",
    "sm_file"
   ]
  },
  {
   "cell_type": "code",
   "execution_count": 11,
   "id": "b315e6ff",
   "metadata": {},
   "outputs": [],
   "source": [
    "df_sm = pd.read_csv(f\"{path}/{sm_file}\", header=None, names=sm_columns) # read the csv file and pass the column names"
   ]
  },
  {
   "cell_type": "code",
   "execution_count": 12,
   "id": "8eff2b0a",
   "metadata": {},
   "outputs": [
    {
     "data": {
      "text/html": [
       "<div>\n",
       "<style scoped>\n",
       "    .dataframe tbody tr th:only-of-type {\n",
       "        vertical-align: middle;\n",
       "    }\n",
       "\n",
       "    .dataframe tbody tr th {\n",
       "        vertical-align: top;\n",
       "    }\n",
       "\n",
       "    .dataframe thead th {\n",
       "        text-align: right;\n",
       "    }\n",
       "</style>\n",
       "<table border=\"1\" class=\"dataframe\">\n",
       "  <thead>\n",
       "    <tr style=\"text-align: right;\">\n",
       "      <th></th>\n",
       "      <th>powerallphases</th>\n",
       "      <th>powerl1</th>\n",
       "      <th>powerl2</th>\n",
       "      <th>powerl3</th>\n",
       "      <th>currentneutral</th>\n",
       "      <th>currentl1</th>\n",
       "      <th>currentl2</th>\n",
       "      <th>currentl3</th>\n",
       "      <th>voltagel1</th>\n",
       "      <th>voltagel2</th>\n",
       "      <th>voltagel3</th>\n",
       "      <th>phaseanglevoltagel2l1</th>\n",
       "      <th>phaseanglevoltagel3l1</th>\n",
       "      <th>phaseanglecurrentvoltagel1</th>\n",
       "      <th>phaseanglecurrentvoltagel2</th>\n",
       "      <th>phaseanglecurrentvoltagel3</th>\n",
       "    </tr>\n",
       "  </thead>\n",
       "  <tbody>\n",
       "    <tr>\n",
       "      <th>0</th>\n",
       "      <td>90</td>\n",
       "      <td>60</td>\n",
       "      <td>20</td>\n",
       "      <td>10</td>\n",
       "      <td>0.3</td>\n",
       "      <td>0.4</td>\n",
       "      <td>0.2</td>\n",
       "      <td>0.1</td>\n",
       "      <td>241.6</td>\n",
       "      <td>241</td>\n",
       "      <td>242</td>\n",
       "      <td>240</td>\n",
       "      <td>120</td>\n",
       "      <td>321</td>\n",
       "      <td>297</td>\n",
       "      <td>293</td>\n",
       "    </tr>\n",
       "    <tr>\n",
       "      <th>1</th>\n",
       "      <td>90</td>\n",
       "      <td>60</td>\n",
       "      <td>20</td>\n",
       "      <td>10</td>\n",
       "      <td>0.3</td>\n",
       "      <td>0.4</td>\n",
       "      <td>0.2</td>\n",
       "      <td>0.1</td>\n",
       "      <td>241.6</td>\n",
       "      <td>241</td>\n",
       "      <td>241</td>\n",
       "      <td>240</td>\n",
       "      <td>120</td>\n",
       "      <td>321</td>\n",
       "      <td>297</td>\n",
       "      <td>293</td>\n",
       "    </tr>\n",
       "    <tr>\n",
       "      <th>2</th>\n",
       "      <td>90</td>\n",
       "      <td>60</td>\n",
       "      <td>20</td>\n",
       "      <td>10</td>\n",
       "      <td>0.3</td>\n",
       "      <td>0.4</td>\n",
       "      <td>0.2</td>\n",
       "      <td>0.1</td>\n",
       "      <td>241.6</td>\n",
       "      <td>241</td>\n",
       "      <td>241</td>\n",
       "      <td>240</td>\n",
       "      <td>120</td>\n",
       "      <td>321</td>\n",
       "      <td>297</td>\n",
       "      <td>293</td>\n",
       "    </tr>\n",
       "  </tbody>\n",
       "</table>\n",
       "</div>"
      ],
      "text/plain": [
       "   powerallphases  powerl1  powerl2  powerl3  currentneutral  currentl1  \\\n",
       "0              90       60       20       10             0.3        0.4   \n",
       "1              90       60       20       10             0.3        0.4   \n",
       "2              90       60       20       10             0.3        0.4   \n",
       "\n",
       "   currentl2  currentl3  voltagel1  voltagel2  voltagel3  \\\n",
       "0        0.2        0.1      241.6        241        242   \n",
       "1        0.2        0.1      241.6        241        241   \n",
       "2        0.2        0.1      241.6        241        241   \n",
       "\n",
       "   phaseanglevoltagel2l1  phaseanglevoltagel3l1  phaseanglecurrentvoltagel1  \\\n",
       "0                    240                    120                         321   \n",
       "1                    240                    120                         321   \n",
       "2                    240                    120                         321   \n",
       "\n",
       "   phaseanglecurrentvoltagel2  phaseanglecurrentvoltagel3  \n",
       "0                         297                         293  \n",
       "1                         297                         293  \n",
       "2                         297                         293  "
      ]
     },
     "execution_count": 12,
     "metadata": {},
     "output_type": "execute_result"
    }
   ],
   "source": [
    "df_sm.head(3)"
   ]
  },
  {
   "cell_type": "markdown",
   "id": "7fa9f590",
   "metadata": {},
   "source": [
    "Then, we can find the corresponding plug data by referencing the date of the smart meter data. Household-1 has 7 classes (1-7)."
   ]
  },
  {
   "cell_type": "code",
   "execution_count": 13,
   "id": "8f3751db",
   "metadata": {},
   "outputs": [],
   "source": [
    "df_plugs = pd.DataFrame(columns=plugs_columns)\n",
    "path_plugs = f\"Dataset/house_{household_id}/0{household_id}_plugs\"\n",
    "for i in range(1,8):\n",
    "        plug_file = f\"{path_plugs}/0{i}/{sm_file}\"\n",
    "        check = src.file_exists(plug_file) # check if the file is available for that date\n",
    "        if check: \n",
    "            df_plug = pd.read_csv(plug_file, header=None, names=[plugs_columns[i-1]]) \n",
    "            df_sm[plugs_columns[i-1]] = df_plug[plugs_columns[i-1]]\n",
    "        else:  \n",
    "            df_sm[plugs_columns[i-1]] = np.nan # make it NAN if the file doesn't exist, we will see if we can fill it later "
   ]
  },
  {
   "cell_type": "markdown",
   "id": "d473da0c",
   "metadata": {},
   "source": [
    "Now df_sm contains a compilation of the smart meter data and the respective appliance data."
   ]
  },
  {
   "cell_type": "code",
   "execution_count": 14,
   "id": "efe9db44",
   "metadata": {},
   "outputs": [
    {
     "data": {
      "text/html": [
       "<div>\n",
       "<style scoped>\n",
       "    .dataframe tbody tr th:only-of-type {\n",
       "        vertical-align: middle;\n",
       "    }\n",
       "\n",
       "    .dataframe tbody tr th {\n",
       "        vertical-align: top;\n",
       "    }\n",
       "\n",
       "    .dataframe thead th {\n",
       "        text-align: right;\n",
       "    }\n",
       "</style>\n",
       "<table border=\"1\" class=\"dataframe\">\n",
       "  <thead>\n",
       "    <tr style=\"text-align: right;\">\n",
       "      <th></th>\n",
       "      <th>powerallphases</th>\n",
       "      <th>powerl1</th>\n",
       "      <th>powerl2</th>\n",
       "      <th>powerl3</th>\n",
       "      <th>currentneutral</th>\n",
       "      <th>currentl1</th>\n",
       "      <th>currentl2</th>\n",
       "      <th>currentl3</th>\n",
       "      <th>voltagel1</th>\n",
       "      <th>voltagel2</th>\n",
       "      <th>...</th>\n",
       "      <th>phaseanglecurrentvoltagel1</th>\n",
       "      <th>phaseanglecurrentvoltagel2</th>\n",
       "      <th>phaseanglecurrentvoltagel3</th>\n",
       "      <th>Fridge</th>\n",
       "      <th>Dryer</th>\n",
       "      <th>Coffee machine</th>\n",
       "      <th>Kettle</th>\n",
       "      <th>Washing machine</th>\n",
       "      <th>PC (including router)</th>\n",
       "      <th>Freezer</th>\n",
       "    </tr>\n",
       "  </thead>\n",
       "  <tbody>\n",
       "    <tr>\n",
       "      <th>0</th>\n",
       "      <td>90</td>\n",
       "      <td>60</td>\n",
       "      <td>20</td>\n",
       "      <td>10</td>\n",
       "      <td>0.3</td>\n",
       "      <td>0.4</td>\n",
       "      <td>0.2</td>\n",
       "      <td>0.1</td>\n",
       "      <td>241.6</td>\n",
       "      <td>241</td>\n",
       "      <td>...</td>\n",
       "      <td>321</td>\n",
       "      <td>297</td>\n",
       "      <td>293</td>\n",
       "      <td>2.20578</td>\n",
       "      <td>0.0000</td>\n",
       "      <td>NaN</td>\n",
       "      <td>0.0</td>\n",
       "      <td>0.0</td>\n",
       "      <td>10.8824</td>\n",
       "      <td>32.4316</td>\n",
       "    </tr>\n",
       "    <tr>\n",
       "      <th>1</th>\n",
       "      <td>90</td>\n",
       "      <td>60</td>\n",
       "      <td>20</td>\n",
       "      <td>10</td>\n",
       "      <td>0.3</td>\n",
       "      <td>0.4</td>\n",
       "      <td>0.2</td>\n",
       "      <td>0.1</td>\n",
       "      <td>241.6</td>\n",
       "      <td>241</td>\n",
       "      <td>...</td>\n",
       "      <td>321</td>\n",
       "      <td>297</td>\n",
       "      <td>293</td>\n",
       "      <td>2.20578</td>\n",
       "      <td>2.1906</td>\n",
       "      <td>NaN</td>\n",
       "      <td>0.0</td>\n",
       "      <td>0.0</td>\n",
       "      <td>10.8824</td>\n",
       "      <td>32.4316</td>\n",
       "    </tr>\n",
       "    <tr>\n",
       "      <th>2</th>\n",
       "      <td>90</td>\n",
       "      <td>60</td>\n",
       "      <td>20</td>\n",
       "      <td>10</td>\n",
       "      <td>0.3</td>\n",
       "      <td>0.4</td>\n",
       "      <td>0.2</td>\n",
       "      <td>0.1</td>\n",
       "      <td>241.6</td>\n",
       "      <td>241</td>\n",
       "      <td>...</td>\n",
       "      <td>321</td>\n",
       "      <td>297</td>\n",
       "      <td>293</td>\n",
       "      <td>0.00000</td>\n",
       "      <td>0.0000</td>\n",
       "      <td>NaN</td>\n",
       "      <td>0.0</td>\n",
       "      <td>0.0</td>\n",
       "      <td>10.8824</td>\n",
       "      <td>32.4316</td>\n",
       "    </tr>\n",
       "  </tbody>\n",
       "</table>\n",
       "<p>3 rows × 23 columns</p>\n",
       "</div>"
      ],
      "text/plain": [
       "   powerallphases  powerl1  powerl2  powerl3  currentneutral  currentl1  \\\n",
       "0              90       60       20       10             0.3        0.4   \n",
       "1              90       60       20       10             0.3        0.4   \n",
       "2              90       60       20       10             0.3        0.4   \n",
       "\n",
       "   currentl2  currentl3  voltagel1  voltagel2  ...  \\\n",
       "0        0.2        0.1      241.6        241  ...   \n",
       "1        0.2        0.1      241.6        241  ...   \n",
       "2        0.2        0.1      241.6        241  ...   \n",
       "\n",
       "   phaseanglecurrentvoltagel1  phaseanglecurrentvoltagel2  \\\n",
       "0                         321                         297   \n",
       "1                         321                         297   \n",
       "2                         321                         297   \n",
       "\n",
       "   phaseanglecurrentvoltagel3   Fridge   Dryer  Coffee machine  Kettle  \\\n",
       "0                         293  2.20578  0.0000             NaN     0.0   \n",
       "1                         293  2.20578  2.1906             NaN     0.0   \n",
       "2                         293  0.00000  0.0000             NaN     0.0   \n",
       "\n",
       "   Washing machine  PC (including router)  Freezer  \n",
       "0              0.0                10.8824  32.4316  \n",
       "1              0.0                10.8824  32.4316  \n",
       "2              0.0                10.8824  32.4316  \n",
       "\n",
       "[3 rows x 23 columns]"
      ]
     },
     "execution_count": 14,
     "metadata": {},
     "output_type": "execute_result"
    }
   ],
   "source": [
    "df_sm.head(3)"
   ]
  },
  {
   "cell_type": "code",
   "execution_count": 15,
   "id": "9d6d70cf",
   "metadata": {},
   "outputs": [
    {
     "data": {
      "text/plain": [
       "powerallphases                False\n",
       "powerl1                       False\n",
       "powerl2                       False\n",
       "powerl3                       False\n",
       "currentneutral                False\n",
       "currentl1                     False\n",
       "currentl2                     False\n",
       "currentl3                     False\n",
       "voltagel1                     False\n",
       "voltagel2                     False\n",
       "voltagel3                     False\n",
       "phaseanglevoltagel2l1         False\n",
       "phaseanglevoltagel3l1         False\n",
       "phaseanglecurrentvoltagel1    False\n",
       "phaseanglecurrentvoltagel2    False\n",
       "phaseanglecurrentvoltagel3    False\n",
       "Fridge                        False\n",
       "Dryer                         False\n",
       "Coffee machine                 True\n",
       "Kettle                        False\n",
       "Washing machine               False\n",
       "PC (including router)         False\n",
       "Freezer                       False\n",
       "dtype: bool"
      ]
     },
     "execution_count": 15,
     "metadata": {},
     "output_type": "execute_result"
    }
   ],
   "source": [
    "df_sm.isnull().any() # check if any of the columns have null values"
   ]
  },
  {
   "cell_type": "markdown",
   "id": "17931a06",
   "metadata": {},
   "source": [
    "From the above, we can see that the Coffee machine has null values, while other columns don't have null values. \n",
    "\n",
    "We should examine if this column has a few null values or if it is empty throughout. For this specific example, I know that it is for all the column as the date chosen is in summer. The coffee machine doesn't have records in summer, and its existing records show that it is only available during winter. I will assume that it was off during the entire summer where I don't have records for it.\n",
    "\n",
    "Additionally, the dataset authors indicated that rows with -1 have invalid data and thus we can remove them from our dataset."
   ]
  },
  {
   "cell_type": "code",
   "execution_count": 16,
   "id": "7ae91cf2",
   "metadata": {},
   "outputs": [
    {
     "data": {
      "text/plain": [
       "True"
      ]
     },
     "execution_count": 16,
     "metadata": {},
     "output_type": "execute_result"
    }
   ],
   "source": [
    "df_sm['Coffee machine'].isnull().all() # check if the coffee machine column has all null values. "
   ]
  },
  {
   "cell_type": "code",
   "execution_count": 17,
   "id": "62a40ef2",
   "metadata": {},
   "outputs": [],
   "source": [
    "df_cleaned = df_sm[~(df_sm == -1).any(axis=1)] # let's create a new dataframe that doesn't have the -1 values, which are used to indicate invalid data"
   ]
  },
  {
   "cell_type": "code",
   "execution_count": 18,
   "id": "18b9b950",
   "metadata": {},
   "outputs": [],
   "source": [
    "df_cleaned = df_cleaned.fillna(0) # fill null values of the coffee machine with 0, as it is not available during summer"
   ]
  },
  {
   "cell_type": "code",
   "execution_count": 19,
   "id": "eb1dcac5",
   "metadata": {},
   "outputs": [
    {
     "data": {
      "text/html": [
       "<div>\n",
       "<style scoped>\n",
       "    .dataframe tbody tr th:only-of-type {\n",
       "        vertical-align: middle;\n",
       "    }\n",
       "\n",
       "    .dataframe tbody tr th {\n",
       "        vertical-align: top;\n",
       "    }\n",
       "\n",
       "    .dataframe thead th {\n",
       "        text-align: right;\n",
       "    }\n",
       "</style>\n",
       "<table border=\"1\" class=\"dataframe\">\n",
       "  <thead>\n",
       "    <tr style=\"text-align: right;\">\n",
       "      <th></th>\n",
       "      <th>powerallphases</th>\n",
       "      <th>powerl1</th>\n",
       "      <th>powerl2</th>\n",
       "      <th>powerl3</th>\n",
       "      <th>currentneutral</th>\n",
       "      <th>currentl1</th>\n",
       "      <th>currentl2</th>\n",
       "      <th>currentl3</th>\n",
       "      <th>voltagel1</th>\n",
       "      <th>voltagel2</th>\n",
       "      <th>...</th>\n",
       "      <th>phaseanglecurrentvoltagel1</th>\n",
       "      <th>phaseanglecurrentvoltagel2</th>\n",
       "      <th>phaseanglecurrentvoltagel3</th>\n",
       "      <th>Fridge</th>\n",
       "      <th>Dryer</th>\n",
       "      <th>Coffee machine</th>\n",
       "      <th>Kettle</th>\n",
       "      <th>Washing machine</th>\n",
       "      <th>PC (including router)</th>\n",
       "      <th>Freezer</th>\n",
       "    </tr>\n",
       "  </thead>\n",
       "  <tbody>\n",
       "    <tr>\n",
       "      <th>0</th>\n",
       "      <td>90</td>\n",
       "      <td>60</td>\n",
       "      <td>20</td>\n",
       "      <td>10</td>\n",
       "      <td>0.3</td>\n",
       "      <td>0.4</td>\n",
       "      <td>0.2</td>\n",
       "      <td>0.1</td>\n",
       "      <td>241.6</td>\n",
       "      <td>241</td>\n",
       "      <td>...</td>\n",
       "      <td>321</td>\n",
       "      <td>297</td>\n",
       "      <td>293</td>\n",
       "      <td>2.20578</td>\n",
       "      <td>0.0000</td>\n",
       "      <td>0.0</td>\n",
       "      <td>0.0</td>\n",
       "      <td>0.0</td>\n",
       "      <td>10.8824</td>\n",
       "      <td>32.4316</td>\n",
       "    </tr>\n",
       "    <tr>\n",
       "      <th>1</th>\n",
       "      <td>90</td>\n",
       "      <td>60</td>\n",
       "      <td>20</td>\n",
       "      <td>10</td>\n",
       "      <td>0.3</td>\n",
       "      <td>0.4</td>\n",
       "      <td>0.2</td>\n",
       "      <td>0.1</td>\n",
       "      <td>241.6</td>\n",
       "      <td>241</td>\n",
       "      <td>...</td>\n",
       "      <td>321</td>\n",
       "      <td>297</td>\n",
       "      <td>293</td>\n",
       "      <td>2.20578</td>\n",
       "      <td>2.1906</td>\n",
       "      <td>0.0</td>\n",
       "      <td>0.0</td>\n",
       "      <td>0.0</td>\n",
       "      <td>10.8824</td>\n",
       "      <td>32.4316</td>\n",
       "    </tr>\n",
       "    <tr>\n",
       "      <th>2</th>\n",
       "      <td>90</td>\n",
       "      <td>60</td>\n",
       "      <td>20</td>\n",
       "      <td>10</td>\n",
       "      <td>0.3</td>\n",
       "      <td>0.4</td>\n",
       "      <td>0.2</td>\n",
       "      <td>0.1</td>\n",
       "      <td>241.6</td>\n",
       "      <td>241</td>\n",
       "      <td>...</td>\n",
       "      <td>321</td>\n",
       "      <td>297</td>\n",
       "      <td>293</td>\n",
       "      <td>0.00000</td>\n",
       "      <td>0.0000</td>\n",
       "      <td>0.0</td>\n",
       "      <td>0.0</td>\n",
       "      <td>0.0</td>\n",
       "      <td>10.8824</td>\n",
       "      <td>32.4316</td>\n",
       "    </tr>\n",
       "  </tbody>\n",
       "</table>\n",
       "<p>3 rows × 23 columns</p>\n",
       "</div>"
      ],
      "text/plain": [
       "   powerallphases  powerl1  powerl2  powerl3  currentneutral  currentl1  \\\n",
       "0              90       60       20       10             0.3        0.4   \n",
       "1              90       60       20       10             0.3        0.4   \n",
       "2              90       60       20       10             0.3        0.4   \n",
       "\n",
       "   currentl2  currentl3  voltagel1  voltagel2  ...  \\\n",
       "0        0.2        0.1      241.6        241  ...   \n",
       "1        0.2        0.1      241.6        241  ...   \n",
       "2        0.2        0.1      241.6        241  ...   \n",
       "\n",
       "   phaseanglecurrentvoltagel1  phaseanglecurrentvoltagel2  \\\n",
       "0                         321                         297   \n",
       "1                         321                         297   \n",
       "2                         321                         297   \n",
       "\n",
       "   phaseanglecurrentvoltagel3   Fridge   Dryer  Coffee machine  Kettle  \\\n",
       "0                         293  2.20578  0.0000             0.0     0.0   \n",
       "1                         293  2.20578  2.1906             0.0     0.0   \n",
       "2                         293  0.00000  0.0000             0.0     0.0   \n",
       "\n",
       "   Washing machine  PC (including router)  Freezer  \n",
       "0              0.0                10.8824  32.4316  \n",
       "1              0.0                10.8824  32.4316  \n",
       "2              0.0                10.8824  32.4316  \n",
       "\n",
       "[3 rows x 23 columns]"
      ]
     },
     "execution_count": 19,
     "metadata": {},
     "output_type": "execute_result"
    }
   ],
   "source": [
    "df_cleaned.head(3)"
   ]
  },
  {
   "cell_type": "markdown",
   "id": "05a2a761",
   "metadata": {},
   "source": [
    "The next step is to apply thresholding to the plugs columns as we are going to build a multi-label classification model. Let's use the following function to map the values. "
   ]
  },
  {
   "cell_type": "code",
   "execution_count": 20,
   "id": "421b8928",
   "metadata": {},
   "outputs": [],
   "source": [
    "def transform_appliance_value(x):\n",
    "    if x == 0:\n",
    "        return 0 # if it is off, return 0\n",
    "    elif x > 1:\n",
    "        return 1 # if it is on, return 1\n",
    "    else:\n",
    "        return np.nan # otherwise it is invalid, so return NaN"
   ]
  },
  {
   "cell_type": "code",
   "execution_count": 21,
   "id": "992eabb5",
   "metadata": {},
   "outputs": [],
   "source": [
    "df_cleaned[plugs_columns] = df_cleaned[plugs_columns].map(transform_appliance_value) # apply the transformation to the plugs columns"
   ]
  },
  {
   "cell_type": "code",
   "execution_count": 22,
   "id": "d9df0524",
   "metadata": {},
   "outputs": [
    {
     "data": {
      "text/html": [
       "<div>\n",
       "<style scoped>\n",
       "    .dataframe tbody tr th:only-of-type {\n",
       "        vertical-align: middle;\n",
       "    }\n",
       "\n",
       "    .dataframe tbody tr th {\n",
       "        vertical-align: top;\n",
       "    }\n",
       "\n",
       "    .dataframe thead th {\n",
       "        text-align: right;\n",
       "    }\n",
       "</style>\n",
       "<table border=\"1\" class=\"dataframe\">\n",
       "  <thead>\n",
       "    <tr style=\"text-align: right;\">\n",
       "      <th></th>\n",
       "      <th>powerallphases</th>\n",
       "      <th>powerl1</th>\n",
       "      <th>powerl2</th>\n",
       "      <th>powerl3</th>\n",
       "      <th>currentneutral</th>\n",
       "      <th>currentl1</th>\n",
       "      <th>currentl2</th>\n",
       "      <th>currentl3</th>\n",
       "      <th>voltagel1</th>\n",
       "      <th>voltagel2</th>\n",
       "      <th>...</th>\n",
       "      <th>phaseanglecurrentvoltagel1</th>\n",
       "      <th>phaseanglecurrentvoltagel2</th>\n",
       "      <th>phaseanglecurrentvoltagel3</th>\n",
       "      <th>Fridge</th>\n",
       "      <th>Dryer</th>\n",
       "      <th>Coffee machine</th>\n",
       "      <th>Kettle</th>\n",
       "      <th>Washing machine</th>\n",
       "      <th>PC (including router)</th>\n",
       "      <th>Freezer</th>\n",
       "    </tr>\n",
       "  </thead>\n",
       "  <tbody>\n",
       "    <tr>\n",
       "      <th>0</th>\n",
       "      <td>90</td>\n",
       "      <td>60</td>\n",
       "      <td>20</td>\n",
       "      <td>10</td>\n",
       "      <td>0.3</td>\n",
       "      <td>0.4</td>\n",
       "      <td>0.2</td>\n",
       "      <td>0.1</td>\n",
       "      <td>241.6</td>\n",
       "      <td>241</td>\n",
       "      <td>...</td>\n",
       "      <td>321</td>\n",
       "      <td>297</td>\n",
       "      <td>293</td>\n",
       "      <td>1</td>\n",
       "      <td>0</td>\n",
       "      <td>0</td>\n",
       "      <td>0</td>\n",
       "      <td>0</td>\n",
       "      <td>1</td>\n",
       "      <td>1</td>\n",
       "    </tr>\n",
       "    <tr>\n",
       "      <th>1</th>\n",
       "      <td>90</td>\n",
       "      <td>60</td>\n",
       "      <td>20</td>\n",
       "      <td>10</td>\n",
       "      <td>0.3</td>\n",
       "      <td>0.4</td>\n",
       "      <td>0.2</td>\n",
       "      <td>0.1</td>\n",
       "      <td>241.6</td>\n",
       "      <td>241</td>\n",
       "      <td>...</td>\n",
       "      <td>321</td>\n",
       "      <td>297</td>\n",
       "      <td>293</td>\n",
       "      <td>1</td>\n",
       "      <td>1</td>\n",
       "      <td>0</td>\n",
       "      <td>0</td>\n",
       "      <td>0</td>\n",
       "      <td>1</td>\n",
       "      <td>1</td>\n",
       "    </tr>\n",
       "    <tr>\n",
       "      <th>2</th>\n",
       "      <td>90</td>\n",
       "      <td>60</td>\n",
       "      <td>20</td>\n",
       "      <td>10</td>\n",
       "      <td>0.3</td>\n",
       "      <td>0.4</td>\n",
       "      <td>0.2</td>\n",
       "      <td>0.1</td>\n",
       "      <td>241.6</td>\n",
       "      <td>241</td>\n",
       "      <td>...</td>\n",
       "      <td>321</td>\n",
       "      <td>297</td>\n",
       "      <td>293</td>\n",
       "      <td>0</td>\n",
       "      <td>0</td>\n",
       "      <td>0</td>\n",
       "      <td>0</td>\n",
       "      <td>0</td>\n",
       "      <td>1</td>\n",
       "      <td>1</td>\n",
       "    </tr>\n",
       "  </tbody>\n",
       "</table>\n",
       "<p>3 rows × 23 columns</p>\n",
       "</div>"
      ],
      "text/plain": [
       "   powerallphases  powerl1  powerl2  powerl3  currentneutral  currentl1  \\\n",
       "0              90       60       20       10             0.3        0.4   \n",
       "1              90       60       20       10             0.3        0.4   \n",
       "2              90       60       20       10             0.3        0.4   \n",
       "\n",
       "   currentl2  currentl3  voltagel1  voltagel2  ...  \\\n",
       "0        0.2        0.1      241.6        241  ...   \n",
       "1        0.2        0.1      241.6        241  ...   \n",
       "2        0.2        0.1      241.6        241  ...   \n",
       "\n",
       "   phaseanglecurrentvoltagel1  phaseanglecurrentvoltagel2  \\\n",
       "0                         321                         297   \n",
       "1                         321                         297   \n",
       "2                         321                         297   \n",
       "\n",
       "   phaseanglecurrentvoltagel3  Fridge  Dryer  Coffee machine  Kettle  \\\n",
       "0                         293       1      0               0       0   \n",
       "1                         293       1      1               0       0   \n",
       "2                         293       0      0               0       0   \n",
       "\n",
       "   Washing machine  PC (including router)  Freezer  \n",
       "0                0                      1        1  \n",
       "1                0                      1        1  \n",
       "2                0                      1        1  \n",
       "\n",
       "[3 rows x 23 columns]"
      ]
     },
     "execution_count": 22,
     "metadata": {},
     "output_type": "execute_result"
    }
   ],
   "source": [
    "df_cleaned.head(3)"
   ]
  },
  {
   "cell_type": "code",
   "execution_count": 23,
   "id": "0430f739",
   "metadata": {},
   "outputs": [
    {
     "data": {
      "text/plain": [
       "powerallphases                False\n",
       "powerl1                       False\n",
       "powerl2                       False\n",
       "powerl3                       False\n",
       "currentneutral                False\n",
       "currentl1                     False\n",
       "currentl2                     False\n",
       "currentl3                     False\n",
       "voltagel1                     False\n",
       "voltagel2                     False\n",
       "voltagel3                     False\n",
       "phaseanglevoltagel2l1         False\n",
       "phaseanglevoltagel3l1         False\n",
       "phaseanglecurrentvoltagel1    False\n",
       "phaseanglecurrentvoltagel2    False\n",
       "phaseanglecurrentvoltagel3    False\n",
       "Fridge                        False\n",
       "Dryer                         False\n",
       "Coffee machine                False\n",
       "Kettle                        False\n",
       "Washing machine               False\n",
       "PC (including router)         False\n",
       "Freezer                       False\n",
       "dtype: bool"
      ]
     },
     "execution_count": 23,
     "metadata": {},
     "output_type": "execute_result"
    }
   ],
   "source": [
    "df_cleaned.isnull().any() # check if any of the columns have null values after the transformation "
   ]
  },
  {
   "cell_type": "markdown",
   "id": "1140eb42",
   "metadata": {},
   "source": [
    "Now, in order to avoid **data leaks** from the training to the testing dataset, we should drop duplicated rows from our dataframe. Then, split the dataset and save it to training and testing sets. "
   ]
  },
  {
   "cell_type": "code",
   "execution_count": 24,
   "id": "8ead91b3",
   "metadata": {},
   "outputs": [
    {
     "data": {
      "text/plain": [
       "86400"
      ]
     },
     "execution_count": 24,
     "metadata": {},
     "output_type": "execute_result"
    }
   ],
   "source": [
    "len(df_cleaned)"
   ]
  },
  {
   "cell_type": "code",
   "execution_count": 25,
   "id": "d2e5fd82",
   "metadata": {},
   "outputs": [],
   "source": [
    "df_cleaned.drop_duplicates(inplace=True) # drop duplicated rows to avoid data leaks from training to testing dataset"
   ]
  },
  {
   "cell_type": "code",
   "execution_count": 26,
   "id": "9ad8b088",
   "metadata": {},
   "outputs": [
    {
     "data": {
      "text/plain": [
       "32438"
      ]
     },
     "execution_count": 26,
     "metadata": {},
     "output_type": "execute_result"
    }
   ],
   "source": [
    "len(df_cleaned)"
   ]
  },
  {
   "cell_type": "code",
   "execution_count": 27,
   "id": "bd655e17",
   "metadata": {},
   "outputs": [
    {
     "data": {
      "text/html": [
       "<div>\n",
       "<style scoped>\n",
       "    .dataframe tbody tr th:only-of-type {\n",
       "        vertical-align: middle;\n",
       "    }\n",
       "\n",
       "    .dataframe tbody tr th {\n",
       "        vertical-align: top;\n",
       "    }\n",
       "\n",
       "    .dataframe thead th {\n",
       "        text-align: right;\n",
       "    }\n",
       "</style>\n",
       "<table border=\"1\" class=\"dataframe\">\n",
       "  <thead>\n",
       "    <tr style=\"text-align: right;\">\n",
       "      <th></th>\n",
       "      <th>powerallphases</th>\n",
       "      <th>powerl1</th>\n",
       "      <th>powerl2</th>\n",
       "      <th>powerl3</th>\n",
       "      <th>currentneutral</th>\n",
       "      <th>currentl1</th>\n",
       "      <th>currentl2</th>\n",
       "      <th>currentl3</th>\n",
       "      <th>voltagel1</th>\n",
       "      <th>voltagel2</th>\n",
       "      <th>...</th>\n",
       "      <th>phaseanglecurrentvoltagel1</th>\n",
       "      <th>phaseanglecurrentvoltagel2</th>\n",
       "      <th>phaseanglecurrentvoltagel3</th>\n",
       "      <th>Fridge</th>\n",
       "      <th>Dryer</th>\n",
       "      <th>Coffee machine</th>\n",
       "      <th>Kettle</th>\n",
       "      <th>Washing machine</th>\n",
       "      <th>PC (including router)</th>\n",
       "      <th>Freezer</th>\n",
       "    </tr>\n",
       "  </thead>\n",
       "  <tbody>\n",
       "    <tr>\n",
       "      <th>0</th>\n",
       "      <td>90</td>\n",
       "      <td>60</td>\n",
       "      <td>20</td>\n",
       "      <td>10</td>\n",
       "      <td>0.3</td>\n",
       "      <td>0.4</td>\n",
       "      <td>0.2</td>\n",
       "      <td>0.1</td>\n",
       "      <td>241.6</td>\n",
       "      <td>241</td>\n",
       "      <td>...</td>\n",
       "      <td>321</td>\n",
       "      <td>297</td>\n",
       "      <td>293</td>\n",
       "      <td>1</td>\n",
       "      <td>0</td>\n",
       "      <td>0</td>\n",
       "      <td>0</td>\n",
       "      <td>0</td>\n",
       "      <td>1</td>\n",
       "      <td>1</td>\n",
       "    </tr>\n",
       "    <tr>\n",
       "      <th>1</th>\n",
       "      <td>90</td>\n",
       "      <td>60</td>\n",
       "      <td>20</td>\n",
       "      <td>10</td>\n",
       "      <td>0.3</td>\n",
       "      <td>0.4</td>\n",
       "      <td>0.2</td>\n",
       "      <td>0.1</td>\n",
       "      <td>241.6</td>\n",
       "      <td>241</td>\n",
       "      <td>...</td>\n",
       "      <td>321</td>\n",
       "      <td>297</td>\n",
       "      <td>293</td>\n",
       "      <td>1</td>\n",
       "      <td>1</td>\n",
       "      <td>0</td>\n",
       "      <td>0</td>\n",
       "      <td>0</td>\n",
       "      <td>1</td>\n",
       "      <td>1</td>\n",
       "    </tr>\n",
       "    <tr>\n",
       "      <th>2</th>\n",
       "      <td>90</td>\n",
       "      <td>60</td>\n",
       "      <td>20</td>\n",
       "      <td>10</td>\n",
       "      <td>0.3</td>\n",
       "      <td>0.4</td>\n",
       "      <td>0.2</td>\n",
       "      <td>0.1</td>\n",
       "      <td>241.6</td>\n",
       "      <td>241</td>\n",
       "      <td>...</td>\n",
       "      <td>321</td>\n",
       "      <td>297</td>\n",
       "      <td>293</td>\n",
       "      <td>0</td>\n",
       "      <td>0</td>\n",
       "      <td>0</td>\n",
       "      <td>0</td>\n",
       "      <td>0</td>\n",
       "      <td>1</td>\n",
       "      <td>1</td>\n",
       "    </tr>\n",
       "    <tr>\n",
       "      <th>3</th>\n",
       "      <td>90</td>\n",
       "      <td>60</td>\n",
       "      <td>20</td>\n",
       "      <td>10</td>\n",
       "      <td>0.3</td>\n",
       "      <td>0.4</td>\n",
       "      <td>0.2</td>\n",
       "      <td>0.1</td>\n",
       "      <td>241.6</td>\n",
       "      <td>241</td>\n",
       "      <td>...</td>\n",
       "      <td>321</td>\n",
       "      <td>296</td>\n",
       "      <td>293</td>\n",
       "      <td>1</td>\n",
       "      <td>0</td>\n",
       "      <td>0</td>\n",
       "      <td>0</td>\n",
       "      <td>0</td>\n",
       "      <td>1</td>\n",
       "      <td>1</td>\n",
       "    </tr>\n",
       "    <tr>\n",
       "      <th>5</th>\n",
       "      <td>90</td>\n",
       "      <td>60</td>\n",
       "      <td>20</td>\n",
       "      <td>10</td>\n",
       "      <td>0.3</td>\n",
       "      <td>0.4</td>\n",
       "      <td>0.2</td>\n",
       "      <td>0.1</td>\n",
       "      <td>241.5</td>\n",
       "      <td>241</td>\n",
       "      <td>...</td>\n",
       "      <td>321</td>\n",
       "      <td>297</td>\n",
       "      <td>293</td>\n",
       "      <td>1</td>\n",
       "      <td>0</td>\n",
       "      <td>0</td>\n",
       "      <td>0</td>\n",
       "      <td>0</td>\n",
       "      <td>1</td>\n",
       "      <td>1</td>\n",
       "    </tr>\n",
       "    <tr>\n",
       "      <th>...</th>\n",
       "      <td>...</td>\n",
       "      <td>...</td>\n",
       "      <td>...</td>\n",
       "      <td>...</td>\n",
       "      <td>...</td>\n",
       "      <td>...</td>\n",
       "      <td>...</td>\n",
       "      <td>...</td>\n",
       "      <td>...</td>\n",
       "      <td>...</td>\n",
       "      <td>...</td>\n",
       "      <td>...</td>\n",
       "      <td>...</td>\n",
       "      <td>...</td>\n",
       "      <td>...</td>\n",
       "      <td>...</td>\n",
       "      <td>...</td>\n",
       "      <td>...</td>\n",
       "      <td>...</td>\n",
       "      <td>...</td>\n",
       "      <td>...</td>\n",
       "    </tr>\n",
       "    <tr>\n",
       "      <th>86384</th>\n",
       "      <td>60</td>\n",
       "      <td>30</td>\n",
       "      <td>20</td>\n",
       "      <td>10</td>\n",
       "      <td>0.3</td>\n",
       "      <td>0.4</td>\n",
       "      <td>0.2</td>\n",
       "      <td>0.1</td>\n",
       "      <td>239.1</td>\n",
       "      <td>239</td>\n",
       "      <td>...</td>\n",
       "      <td>294</td>\n",
       "      <td>297</td>\n",
       "      <td>292</td>\n",
       "      <td>0</td>\n",
       "      <td>0</td>\n",
       "      <td>0</td>\n",
       "      <td>0</td>\n",
       "      <td>1</td>\n",
       "      <td>1</td>\n",
       "      <td>0</td>\n",
       "    </tr>\n",
       "    <tr>\n",
       "      <th>86390</th>\n",
       "      <td>60</td>\n",
       "      <td>30</td>\n",
       "      <td>20</td>\n",
       "      <td>10</td>\n",
       "      <td>0.3</td>\n",
       "      <td>0.4</td>\n",
       "      <td>0.2</td>\n",
       "      <td>0.1</td>\n",
       "      <td>239.1</td>\n",
       "      <td>239</td>\n",
       "      <td>...</td>\n",
       "      <td>294</td>\n",
       "      <td>296</td>\n",
       "      <td>293</td>\n",
       "      <td>1</td>\n",
       "      <td>0</td>\n",
       "      <td>0</td>\n",
       "      <td>0</td>\n",
       "      <td>1</td>\n",
       "      <td>1</td>\n",
       "      <td>1</td>\n",
       "    </tr>\n",
       "    <tr>\n",
       "      <th>86396</th>\n",
       "      <td>60</td>\n",
       "      <td>30</td>\n",
       "      <td>20</td>\n",
       "      <td>10</td>\n",
       "      <td>0.3</td>\n",
       "      <td>0.4</td>\n",
       "      <td>0.2</td>\n",
       "      <td>0.1</td>\n",
       "      <td>239.1</td>\n",
       "      <td>239</td>\n",
       "      <td>...</td>\n",
       "      <td>294</td>\n",
       "      <td>297</td>\n",
       "      <td>292</td>\n",
       "      <td>1</td>\n",
       "      <td>1</td>\n",
       "      <td>0</td>\n",
       "      <td>0</td>\n",
       "      <td>1</td>\n",
       "      <td>1</td>\n",
       "      <td>0</td>\n",
       "    </tr>\n",
       "    <tr>\n",
       "      <th>86398</th>\n",
       "      <td>60</td>\n",
       "      <td>30</td>\n",
       "      <td>20</td>\n",
       "      <td>10</td>\n",
       "      <td>0.3</td>\n",
       "      <td>0.4</td>\n",
       "      <td>0.2</td>\n",
       "      <td>0.1</td>\n",
       "      <td>239.0</td>\n",
       "      <td>239</td>\n",
       "      <td>...</td>\n",
       "      <td>294</td>\n",
       "      <td>297</td>\n",
       "      <td>293</td>\n",
       "      <td>1</td>\n",
       "      <td>0</td>\n",
       "      <td>0</td>\n",
       "      <td>0</td>\n",
       "      <td>1</td>\n",
       "      <td>1</td>\n",
       "      <td>1</td>\n",
       "    </tr>\n",
       "    <tr>\n",
       "      <th>86399</th>\n",
       "      <td>60</td>\n",
       "      <td>30</td>\n",
       "      <td>20</td>\n",
       "      <td>10</td>\n",
       "      <td>0.3</td>\n",
       "      <td>0.4</td>\n",
       "      <td>0.2</td>\n",
       "      <td>0.1</td>\n",
       "      <td>239.0</td>\n",
       "      <td>239</td>\n",
       "      <td>...</td>\n",
       "      <td>294</td>\n",
       "      <td>296</td>\n",
       "      <td>293</td>\n",
       "      <td>0</td>\n",
       "      <td>0</td>\n",
       "      <td>0</td>\n",
       "      <td>0</td>\n",
       "      <td>1</td>\n",
       "      <td>1</td>\n",
       "      <td>1</td>\n",
       "    </tr>\n",
       "  </tbody>\n",
       "</table>\n",
       "<p>32438 rows × 23 columns</p>\n",
       "</div>"
      ],
      "text/plain": [
       "       powerallphases  powerl1  powerl2  powerl3  currentneutral  currentl1  \\\n",
       "0                  90       60       20       10             0.3        0.4   \n",
       "1                  90       60       20       10             0.3        0.4   \n",
       "2                  90       60       20       10             0.3        0.4   \n",
       "3                  90       60       20       10             0.3        0.4   \n",
       "5                  90       60       20       10             0.3        0.4   \n",
       "...               ...      ...      ...      ...             ...        ...   \n",
       "86384              60       30       20       10             0.3        0.4   \n",
       "86390              60       30       20       10             0.3        0.4   \n",
       "86396              60       30       20       10             0.3        0.4   \n",
       "86398              60       30       20       10             0.3        0.4   \n",
       "86399              60       30       20       10             0.3        0.4   \n",
       "\n",
       "       currentl2  currentl3  voltagel1  voltagel2  ...  \\\n",
       "0            0.2        0.1      241.6        241  ...   \n",
       "1            0.2        0.1      241.6        241  ...   \n",
       "2            0.2        0.1      241.6        241  ...   \n",
       "3            0.2        0.1      241.6        241  ...   \n",
       "5            0.2        0.1      241.5        241  ...   \n",
       "...          ...        ...        ...        ...  ...   \n",
       "86384        0.2        0.1      239.1        239  ...   \n",
       "86390        0.2        0.1      239.1        239  ...   \n",
       "86396        0.2        0.1      239.1        239  ...   \n",
       "86398        0.2        0.1      239.0        239  ...   \n",
       "86399        0.2        0.1      239.0        239  ...   \n",
       "\n",
       "       phaseanglecurrentvoltagel1  phaseanglecurrentvoltagel2  \\\n",
       "0                             321                         297   \n",
       "1                             321                         297   \n",
       "2                             321                         297   \n",
       "3                             321                         296   \n",
       "5                             321                         297   \n",
       "...                           ...                         ...   \n",
       "86384                         294                         297   \n",
       "86390                         294                         296   \n",
       "86396                         294                         297   \n",
       "86398                         294                         297   \n",
       "86399                         294                         296   \n",
       "\n",
       "       phaseanglecurrentvoltagel3  Fridge  Dryer  Coffee machine  Kettle  \\\n",
       "0                             293       1      0               0       0   \n",
       "1                             293       1      1               0       0   \n",
       "2                             293       0      0               0       0   \n",
       "3                             293       1      0               0       0   \n",
       "5                             293       1      0               0       0   \n",
       "...                           ...     ...    ...             ...     ...   \n",
       "86384                         292       0      0               0       0   \n",
       "86390                         293       1      0               0       0   \n",
       "86396                         292       1      1               0       0   \n",
       "86398                         293       1      0               0       0   \n",
       "86399                         293       0      0               0       0   \n",
       "\n",
       "       Washing machine  PC (including router)  Freezer  \n",
       "0                    0                      1        1  \n",
       "1                    0                      1        1  \n",
       "2                    0                      1        1  \n",
       "3                    0                      1        1  \n",
       "5                    0                      1        1  \n",
       "...                ...                    ...      ...  \n",
       "86384                1                      1        0  \n",
       "86390                1                      1        1  \n",
       "86396                1                      1        0  \n",
       "86398                1                      1        1  \n",
       "86399                1                      1        1  \n",
       "\n",
       "[32438 rows x 23 columns]"
      ]
     },
     "execution_count": 27,
     "metadata": {},
     "output_type": "execute_result"
    }
   ],
   "source": [
    "df_cleaned # now this is the cleaned dataframe that we will use for training and testing our model "
   ]
  },
  {
   "cell_type": "markdown",
   "id": "7fa162b9",
   "metadata": {},
   "source": [
    "Let's save this processed dataframe before proceeding to the next step."
   ]
  },
  {
   "cell_type": "code",
   "execution_count": 28,
   "id": "341b6979",
   "metadata": {},
   "outputs": [],
   "source": [
    "saving_path = f\"Dataset/house_{household_id}/preprocessed_data\"\n",
    "src.make_dir_if_not_exists(saving_path) # we will save the data in this folder so we need to create it if it doesn't exist"
   ]
  },
  {
   "cell_type": "code",
   "execution_count": 29,
   "id": "3b0edfb0",
   "metadata": {},
   "outputs": [],
   "source": [
    "df_cleaned.to_csv(f\"{saving_path}/{sm_file}\", index=False)  # save the cleaned dataframe to a csv file with the same name as the date of the data capture"
   ]
  },
  {
   "cell_type": "markdown",
   "id": "d85db054",
   "metadata": {},
   "source": [
    "Now we can split this data to training and testing set. I chose the ratio of 7:3 for the split."
   ]
  },
  {
   "cell_type": "code",
   "execution_count": 30,
   "id": "a68e3fca",
   "metadata": {},
   "outputs": [],
   "source": [
    "train_df, test_df = train_test_split(df_cleaned, test_size=0.3, random_state=42, shuffle=True)"
   ]
  },
  {
   "cell_type": "code",
   "execution_count": 31,
   "id": "2640e7ec",
   "metadata": {},
   "outputs": [
    {
     "data": {
      "text/plain": [
       "((22706, 23), (9732, 23))"
      ]
     },
     "execution_count": 31,
     "metadata": {},
     "output_type": "execute_result"
    }
   ],
   "source": [
    "train_df.shape, test_df.shape # display the shape of the training and testing dataframes"
   ]
  },
  {
   "cell_type": "code",
   "execution_count": 32,
   "id": "5df15c40",
   "metadata": {},
   "outputs": [],
   "source": [
    "DATA_DIR = \"dataset/house_1\" # save the files to csv files in the dataset directory\n",
    "train_df.to_csv(f'{DATA_DIR}/train_data.csv', index=False)\n",
    "test_df.to_csv(f'{DATA_DIR}/test_data.csv', index=False)"
   ]
  },
  {
   "cell_type": "markdown",
   "id": "6b56d9d4",
   "metadata": {},
   "source": [
    "This sampled data is extremely extremely tiny compared with the full dataset as it is just obtained from 1 day. The proper final model needs to be trained on a more robust sample as can be showed in the following tests for dataset imbalance. "
   ]
  },
  {
   "cell_type": "code",
   "execution_count": 34,
   "id": "b5e56a30",
   "metadata": {},
   "outputs": [
    {
     "name": "stdout",
     "output_type": "stream",
     "text": [
      "Fridge  Dryer  Coffee machine  Kettle  Washing machine  PC (including router)  Freezer\n",
      "1       0      0               0       0                1                      1          53.434244\n",
      "                                                                               0          12.830631\n",
      "                                       1                1                      1          10.324311\n",
      "0       0      0               0       0                1                      1           8.113940\n",
      "1       1      0               0       0                1                      1           4.812257\n",
      "0       0      0               0       1                1                      1           3.563722\n",
      "1       0      0               0       1                1                      0           2.268944\n",
      "0       0      0               0       0                1                      0           1.378013\n",
      "                                       1                1                      0           0.767618\n",
      "1       1      0               0       0                1                      0           0.746039\n",
      "                                       1                1                      1           0.573402\n",
      "0       1      0               0       0                1                      1           0.527160\n",
      "1       0      0               1       0                1                      1           0.200382\n",
      "0       1      0               0       1                1                      1           0.194217\n",
      "        0      0               1       0                1                      1           0.083236\n",
      "1       1      0               0       1                1                      0           0.083236\n",
      "0       1      0               0       0                1                      0           0.036994\n",
      "                                       1                1                      0           0.033911\n",
      "1       0      0               1       1                1                      1           0.015414\n",
      "        1      0               1       0                1                      1           0.009248\n",
      "0       1      0               1       0                1                      1           0.003083\n",
      "Name: count, dtype: float64\n"
     ]
    }
   ],
   "source": [
    "# checking for class imbalance\n",
    "class_counts = df_cleaned[plugs_columns].value_counts()\n",
    "print(class_counts / len(df_cleaned) * 100)"
   ]
  },
  {
   "cell_type": "markdown",
   "id": "0014ad1c",
   "metadata": {},
   "source": [
    "From the above we can see that there is a huge dataset imbalance in where more than 53% of the output corresponds to sequence [1, 0, 0, 0, 0, 1, 1] indicating the ['Fridge','Dryer','Coffee machine','Kettle','Washing machine','PC (including router)','Freezer'] are on or off. This invalidates some classification metrics like the accuracy. Therefore, the focus should be on classification metrics that are blind to class imbalance like the mean average precision. "
   ]
  },
  {
   "cell_type": "markdown",
   "id": "9a141c3f",
   "metadata": {},
   "source": [
    "### Model Development and Training"
   ]
  },
  {
   "cell_type": "markdown",
   "id": "6d0c90c3",
   "metadata": {},
   "source": [
    "#### Imports and Configs"
   ]
  },
  {
   "cell_type": "markdown",
   "id": "0c207960",
   "metadata": {},
   "source": [
    "Up until this point we have the pre-processed sampled dataset ready for training. In this section, a custom model architecture is used to train a multi-label classification model."
   ]
  },
  {
   "cell_type": "code",
   "execution_count": 35,
   "id": "83b86eb3",
   "metadata": {},
   "outputs": [],
   "source": [
    "# imports\n",
    "import os\n",
    "\n",
    "import fire\n",
    "import matplotlib.pyplot as plt\n",
    "import numpy as np\n",
    "import pandas as pd\n",
    "import torch\n",
    "from sklearn.metrics import (\n",
    "    accuracy_score,\n",
    "    average_precision_score,\n",
    "    classification_report,\n",
    "    f1_score,\n",
    "    multilabel_confusion_matrix,\n",
    "    precision_score,\n",
    "    recall_score,\n",
    ")\n",
    "from sklearn.preprocessing import StandardScaler\n",
    "from torch import nn\n",
    "from torch.utils.data import DataLoader, Dataset\n",
    "from tqdm import tqdm\n",
    "\n",
    "import src"
   ]
  },
  {
   "cell_type": "code",
   "execution_count": null,
   "id": "0cf27d58",
   "metadata": {},
   "outputs": [],
   "source": [
    "# configurations\n",
    "DATA_DIR = \"dataset/house_1\"\n",
    "TRAIN_FILE = os.path.join(DATA_DIR, \"train_data.csv\")\n",
    "TEST_FILE = os.path.join(DATA_DIR, \"test_data.csv\")\n",
    "NO_EPOCHS = 30\n",
    "MODEL_SAVE_PATH = f\"models/eco_multilabel_model_e{NO_EPOCHS}.pth\"\n",
    "FEATURE_COLS = sm_columns\n",
    "TARGET_COLS = plugs_columns"
   ]
  },
  {
   "cell_type": "code",
   "execution_count": 37,
   "id": "8edc191c",
   "metadata": {},
   "outputs": [
    {
     "data": {
      "text/plain": [
       "device(type='cuda')"
      ]
     },
     "execution_count": 37,
     "metadata": {},
     "output_type": "execute_result"
    }
   ],
   "source": [
    "DEVICE = torch.device(\"cuda\" if torch.cuda.is_available() else \"cpu\")\n",
    "DEVICE"
   ]
  },
  {
   "cell_type": "markdown",
   "id": "907b6cf1",
   "metadata": {},
   "source": [
    "#### Custom Classes and Functions "
   ]
  },
  {
   "cell_type": "markdown",
   "id": "631cb9b8",
   "metadata": {},
   "source": [
    "The following are the necessary classes and functions that we are going to use. I use a custom dataset, the default dataset loader, and a custom model architecture."
   ]
  },
  {
   "cell_type": "code",
   "execution_count": 38,
   "id": "d8597f7e",
   "metadata": {},
   "outputs": [],
   "source": [
    "class EcoDataset(Dataset): # custom dataset class for loading the data from CSV files\n",
    "    def __init__(\n",
    "        self, csv_file, feature_cols, target_cols, scaler=None, fit_scaler=False\n",
    "    ):\n",
    "        self.df = pd.read_csv(csv_file)\n",
    "        self.features = self.df[feature_cols].values.astype(np.float32)\n",
    "        self.targets = self.df[target_cols].values.astype(np.float32)\n",
    "\n",
    "        if scaler is None:\n",
    "            self.scaler = StandardScaler()\n",
    "            if fit_scaler:\n",
    "                self.features = self.scaler.fit_transform(self.features)\n",
    "            else:\n",
    "                self.features = self.scaler.transform(self.features)\n",
    "        else:\n",
    "            self.scaler = scaler\n",
    "            self.features = self.scaler.transform(self.features)\n",
    "\n",
    "    def __len__(self):\n",
    "        return len(self.df)\n",
    "\n",
    "    def __getitem__(self, idx):\n",
    "        x = torch.tensor(self.features[idx])\n",
    "        y = torch.tensor(self.targets[idx])\n",
    "        return x, y"
   ]
  },
  {
   "cell_type": "code",
   "execution_count": 39,
   "id": "4704eadc",
   "metadata": {},
   "outputs": [],
   "source": [
    "class MultiLabelClassifier(nn.Module): # custom model architecture for multi-label classification\n",
    "    def __init__(self, input_dim, output_dim):\n",
    "        super(MultiLabelClassifier, self).__init__()\n",
    "        self.net = nn.Sequential(\n",
    "            nn.Linear(input_dim, 128),\n",
    "            nn.BatchNorm1d(128),\n",
    "            nn.ReLU(),\n",
    "            nn.Dropout(0.3),\n",
    "            nn.Linear(128, 64),\n",
    "            nn.BatchNorm1d(64),\n",
    "            nn.ReLU(),\n",
    "            nn.Dropout(0.2),\n",
    "            nn.Linear(64, output_dim),\n",
    "            # nn.Sigmoid()  # sigmoid for multilabel binary probs ##--removed here because I am using BCEWithLogitsLoss later on\n",
    "        )\n",
    "\n",
    "    def forward(self, x):\n",
    "        return self.net(x)"
   ]
  },
  {
   "cell_type": "code",
   "execution_count": 40,
   "id": "fb3cfaa9",
   "metadata": {},
   "outputs": [],
   "source": [
    "def train_epoch(model, dataloader, criterion, optimizer): # training loop for one epoch\n",
    "    model.train()\n",
    "    running_loss = 0\n",
    "    all_targets = []\n",
    "    all_preds = []\n",
    "    for x, y in tqdm(dataloader, desc=\"Training\", leave=False):\n",
    "        x, y = x.to(DEVICE), y.to(DEVICE)\n",
    "        optimizer.zero_grad()\n",
    "        raw_outputs = model(x)\n",
    "        outputs = torch.sigmoid(raw_outputs)\n",
    "        loss = criterion(outputs, y)\n",
    "        loss.backward()\n",
    "        optimizer.step()\n",
    "\n",
    "        running_loss += loss.item() * x.size(0)\n",
    "        all_targets.append(y.detach().cpu().numpy())\n",
    "        all_preds.append(outputs.detach().cpu().numpy())\n",
    "\n",
    "    epoch_loss = running_loss / len(dataloader.dataset)\n",
    "    all_targets = np.vstack(all_targets)\n",
    "    all_preds = np.vstack(all_preds)\n",
    "    f1, recall, precision, accuracy, mAP, _ = calculate_metrics(all_targets, all_preds)\n",
    "\n",
    "    return epoch_loss, f1, recall, precision, accuracy, mAP"
   ]
  },
  {
   "cell_type": "code",
   "execution_count": 41,
   "id": "554d5340",
   "metadata": {},
   "outputs": [],
   "source": [
    "def test_epoch(model, dataloader, criterion): # testing loop for one epoch\n",
    "    model.eval()\n",
    "    running_loss = 0\n",
    "    all_targets = []\n",
    "    all_preds = []\n",
    "    with torch.no_grad():\n",
    "        for x, y in tqdm(dataloader, desc=\"Testing\", leave=False):\n",
    "            x, y = x.to(DEVICE), y.to(DEVICE)\n",
    "            raw_outputs = model(x)\n",
    "            outputs = torch.sigmoid(raw_outputs)\n",
    "\n",
    "            loss = criterion(outputs, y)\n",
    "            running_loss += loss.item() * x.size(0)\n",
    "\n",
    "            all_targets.append(y.detach().cpu().numpy())\n",
    "            all_preds.append(outputs.detach().cpu().numpy())\n",
    "\n",
    "    epoch_loss = running_loss / len(dataloader.dataset)\n",
    "    all_targets = np.vstack(all_targets)\n",
    "    all_preds = np.vstack(all_preds)\n",
    "    f1, recall, precision, accuracy, mAP, y_pred_bin = calculate_metrics(\n",
    "        all_targets, all_preds\n",
    "    )\n",
    "\n",
    "    true_bin = all_targets.astype(int)\n",
    "    pred_bin = y_pred_bin.astype(int)\n",
    "\n",
    "    assert true_bin.shape == pred_bin.shape\n",
    "    # print(\"\\n=== Classification Report (Test) ===\")\n",
    "    # print(\n",
    "    #     classification_report(\n",
    "    #         true_bin, pred_bin, target_names=TARGET_COLS, zero_division=0\n",
    "    #     )\n",
    "    # )\n",
    "\n",
    "    return epoch_loss, f1, recall, precision, accuracy, mAP"
   ]
  },
  {
   "cell_type": "code",
   "execution_count": 42,
   "id": "e064d704",
   "metadata": {},
   "outputs": [],
   "source": [
    "def calculate_metrics(y_true, y_pred, threshold=0.5):\n",
    "\n",
    "    y_true = np.asarray(y_true, dtype=np.int32)\n",
    "    y_pred = np.asarray(y_pred, dtype=np.float32)\n",
    "    y_pred_bin = (y_pred >= threshold).astype(np.int32)\n",
    "\n",
    "    if y_true.ndim == 1:\n",
    "        y_true = y_true.reshape(-1, 1)\n",
    "    if y_pred_bin.ndim == 1:\n",
    "        y_pred_bin = y_pred_bin.reshape(-1, 1)\n",
    "    if y_pred.ndim == 1:\n",
    "        y_pred = y_pred.reshape(-1, 1)\n",
    "\n",
    "    n_samples, n_labels = y_true.shape\n",
    "\n",
    "    f1_scores = []\n",
    "    recall_scores = []\n",
    "    precision_scores = []\n",
    "\n",
    "    for label_idx in range(n_labels):\n",
    "        y_true_label = y_true[:, label_idx]\n",
    "        y_pred_label = y_pred_bin[:, label_idx]\n",
    "\n",
    "        tp = np.sum((y_true_label == 1) & (y_pred_label == 1))\n",
    "        fp = np.sum((y_true_label == 0) & (y_pred_label == 1))\n",
    "        fn = np.sum((y_true_label == 1) & (y_pred_label == 0))\n",
    "\n",
    "        precision_label = tp / (tp + fp) if (tp + fp) > 0 else 0\n",
    "        recall_label = tp / (tp + fn) if (tp + fn) > 0 else 0\n",
    "        f1_label = (\n",
    "            2 * (precision_label * recall_label) / (precision_label + recall_label)\n",
    "            if (precision_label + recall_label) > 0\n",
    "            else 0\n",
    "        )\n",
    "\n",
    "        f1_scores.append(f1_label)\n",
    "        recall_scores.append(recall_label)\n",
    "        precision_scores.append(precision_label)\n",
    "\n",
    "    f1 = np.mean(f1_scores)\n",
    "    recall = np.mean(recall_scores)\n",
    "    precision = np.mean(precision_scores)\n",
    "\n",
    "    accuracy = np.mean(np.all(y_true == y_pred_bin, axis=1))\n",
    "\n",
    "    mAP_scores = []\n",
    "    for label_idx in range(n_labels):\n",
    "        y_true_label = y_true[:, label_idx]\n",
    "        y_pred_label = y_pred[:, label_idx]\n",
    "\n",
    "        sorted_indices = np.argsort(y_pred_label)[::-1]\n",
    "        y_true_sorted = y_true_label[sorted_indices]\n",
    "\n",
    "        if np.sum(y_true_sorted) == 0:\n",
    "            ap = 0.0\n",
    "        else:\n",
    "            precisions = []\n",
    "            for k in range(1, len(y_true_sorted) + 1):\n",
    "                precision_at_k = np.sum(y_true_sorted[:k]) / k\n",
    "                if y_true_sorted[k - 1] == 1:\n",
    "                    precisions.append(precision_at_k)\n",
    "            ap = np.mean(precisions) if precisions else 0.0\n",
    "\n",
    "        mAP_scores.append(ap)\n",
    "\n",
    "    mAP = np.mean(mAP_scores)\n",
    "\n",
    "    return f1, recall, precision, accuracy, mAP, y_pred_bin"
   ]
  },
  {
   "cell_type": "code",
   "execution_count": 43,
   "id": "07485e9a",
   "metadata": {},
   "outputs": [],
   "source": [
    "def main():\n",
    "\n",
    "    train_dataset = EcoDataset(\n",
    "        TRAIN_FILE, FEATURE_COLS, TARGET_COLS, scaler=None, fit_scaler=True\n",
    "    )\n",
    "    scaler = train_dataset.scaler\n",
    "\n",
    "    test_dataset = EcoDataset(\n",
    "        TEST_FILE, FEATURE_COLS, TARGET_COLS, scaler=scaler, fit_scaler=False\n",
    "    )\n",
    "\n",
    "    train_loader = DataLoader(train_dataset, batch_size=64, shuffle=True, num_workers=2)\n",
    "    test_loader = DataLoader(test_dataset, batch_size=64, shuffle=False, num_workers=2)\n",
    "\n",
    "    model = MultiLabelClassifier(\n",
    "        input_dim=len(FEATURE_COLS), output_dim=len(TARGET_COLS)\n",
    "    ).to(DEVICE)\n",
    "\n",
    "    criterion = nn.BCEWithLogitsLoss() # This loss combines a Sigmoid layer and the BCELoss in one single class. \n",
    "\n",
    "    optimizer = torch.optim.Adam(model.parameters(), lr=0.001) # using Adam optimizer with a constant learning 0.001\n",
    "\n",
    "    num_epochs = NO_EPOCHS\n",
    "\n",
    "    history = {\n",
    "        \"train_loss\": [],\n",
    "        \"train_f1\": [],\n",
    "        \"train_recall\": [],\n",
    "        \"train_precision\": [],\n",
    "        \"train_acc\": [],\n",
    "        \"train_map\": [],\n",
    "        \"test_loss\": [],\n",
    "        \"test_f1\": [],\n",
    "        \"test_recall\": [],\n",
    "        \"test_precision\": [],\n",
    "        \"test_acc\": [],\n",
    "        \"test_map\": [],\n",
    "    }\n",
    "\n",
    "    for epoch in tqdm(range(num_epochs)):\n",
    "\n",
    "        train_loss, train_f1, train_recall, train_precision, train_acc, train_map = (\n",
    "            train_epoch(model, train_loader, criterion, optimizer)\n",
    "        )\n",
    "        test_loss, test_f1, test_recall, test_precision, test_acc, test_map = (\n",
    "            test_epoch(model, test_loader, criterion)\n",
    "        )\n",
    "\n",
    "        # print(f\"\\nEpoch {epoch+1}/{num_epochs}\")  # commented out to for now since we just need to see the progress only\n",
    "        # print(\n",
    "        #     f\"Train Loss: {train_loss:.4f} | F1: {train_f1:.4f} | Recall: {train_recall:.4f} | Precision: {train_precision:.4f} | Acc: {train_acc:.4f} | mAP: {train_map:.4f}\"\n",
    "        # )\n",
    "        # print(\n",
    "        #     f\"Test  Loss: {test_loss:.4f} | F1: {test_f1:.4f} | Recall: {test_recall:.4f} | Precision: {test_precision:.4f} | Acc: {test_acc:.4f} | mAP: {test_map:.4f}\"\n",
    "        # )\n",
    "\n",
    "        history[\"train_loss\"].append(train_loss)\n",
    "        history[\"train_f1\"].append(train_f1)\n",
    "        history[\"train_recall\"].append(train_recall)\n",
    "        history[\"train_precision\"].append(train_precision)\n",
    "        history[\"train_acc\"].append(train_acc)\n",
    "        history[\"train_map\"].append(train_map)\n",
    "\n",
    "        history[\"test_loss\"].append(test_loss)\n",
    "        history[\"test_f1\"].append(test_f1)\n",
    "        history[\"test_recall\"].append(test_recall)\n",
    "        history[\"test_precision\"].append(test_precision)\n",
    "        history[\"test_acc\"].append(test_acc)\n",
    "        history[\"test_map\"].append(test_map)\n",
    "\n",
    "    torch.save(model.state_dict(), MODEL_SAVE_PATH)\n",
    "    print(f\"\\nModel saved to {MODEL_SAVE_PATH}\")\n",
    "\n",
    "    def plot_metric(history, metric_name, MODEL_SAVE_PATH):\n",
    "        plt.figure(figsize=(8, 5))\n",
    "        plt.plot(history[f\"train_{metric_name}\"], label=f\"Train {metric_name}\")\n",
    "        plt.plot(history[f\"test_{metric_name}\"], label=f\"Test {metric_name}\")\n",
    "\n",
    "        plt.xlabel(\"Epoch\")\n",
    "        plt.ylabel(metric_name)\n",
    "        plt.title(f\"{metric_name} over epochs\")\n",
    "        plt.legend()\n",
    "        plt.grid(True)\n",
    "        src.make_dir_if_not_exists(MODEL_SAVE_PATH[:-4])\n",
    "        plt.savefig(f\"{MODEL_SAVE_PATH[:-4]}/{metric_name}.png\", bbox_inches=\"tight\")\n",
    "\n",
    "    for metric in [\"loss\", \"f1\", \"recall\", \"precision\", \"acc\", \"map\"]:\n",
    "        plot_metric(history, metric, MODEL_SAVE_PATH)"
   ]
  },
  {
   "cell_type": "markdown",
   "id": "87928b3e",
   "metadata": {},
   "source": [
    "From the above code, BCEWithLogitsLoss is used. It combines both Sigmoid layer and Binary Cross Entropy loss (BCE) in one class. According to PyTorch documentation, this version is more numerically stable than using a Sigmoid and then using BCELoss (seprately)."
   ]
  },
  {
   "cell_type": "markdown",
   "id": "a6675e88",
   "metadata": {},
   "source": [
    "#### Run Training"
   ]
  },
  {
   "cell_type": "code",
   "execution_count": 100,
   "id": "3f17be19",
   "metadata": {},
   "outputs": [
    {
     "name": "stderr",
     "output_type": "stream",
     "text": [
      "100%|██████████| 100/100 [06:36<00:00,  3.97s/it]\n"
     ]
    },
    {
     "name": "stdout",
     "output_type": "stream",
     "text": [
      "\n",
      "Model saved to models/eco_multilabel_model_e100.pth\n"
     ]
    },
    {
     "data": {
      "image/png": "[encoded data removed]",
      "text/plain": [
       "<Figure size 800x500 with 1 Axes>"
      ]
     },
     "metadata": {},
     "output_type": "display_data"
    },
    {
     "data": {
      "image/png": "[encoded data removed]",
      "text/plain": [
       "<Figure size 800x500 with 1 Axes>"
      ]
     },
     "metadata": {},
     "output_type": "display_data"
    },
    {
     "data": {
      "image/png": "[encoded data removed]",
      "text/plain": [
       "<Figure size 800x500 with 1 Axes>"
      ]
     },
     "metadata": {},
     "output_type": "display_data"
    },
    {
     "data": {
      "image/png": "[encoded data removed]",
      "text/plain": [
       "<Figure size 800x500 with 1 Axes>"
      ]
     },
     "metadata": {},
     "output_type": "display_data"
    },
    {
     "data": {
      "image/png": "[encoded data removed]",
      "text/plain": [
       "<Figure size 800x500 with 1 Axes>"
      ]
     },
     "metadata": {},
     "output_type": "display_data"
    },
    {
     "data": {
      "image/png": "[encoded data removed]",
      "text/plain": [
       "<Figure size 800x500 with 1 Axes>"
      ]
     },
     "metadata": {},
     "output_type": "display_data"
    }
   ],
   "source": [
    "main()"
   ]
  },
  {
   "cell_type": "code",
   "execution_count": null,
   "id": "a17f96d1",
   "metadata": {},
   "outputs": [],
   "source": []
  }
 ],
 "metadata": {
  "kernelspec": {
   "display_name": "nilm",
   "language": "python",
   "name": "python3"
  },
  "language_info": {
   "codemirror_mode": {
    "name": "ipython",
    "version": 3
   },
   "file_extension": ".py",
   "mimetype": "text/x-python",
   "name": "python",
   "nbconvert_exporter": "python",
   "pygments_lexer": "ipython3",
   "version": "3.11.13"
  }
 },
 "nbformat": 4,
 "nbformat_minor": 5
}
