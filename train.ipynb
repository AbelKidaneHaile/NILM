{
 "cells": [
  {
   "cell_type": "code",
   "execution_count": 4,
   "id": "588efeaa",
   "metadata": {},
   "outputs": [],
   "source": [
    "import os\n",
    "\n",
    "import matplotlib.pyplot as plt\n",
    "import numpy as np\n",
    "import pandas as pd\n",
    "import torch\n",
    "from sklearn.metrics import (\n",
    "    accuracy_score,\n",
    "    classification_report,\n",
    "    f1_score,\n",
    "    multilabel_confusion_matrix,\n",
    "    precision_score,\n",
    "    recall_score,\n",
    ")\n",
    "from sklearn.preprocessing import StandardScaler\n",
    "from torch import nn\n",
    "from torch.utils.data import DataLoader, Dataset\n",
    "from tqdm import tqdm"
   ]
  },
  {
   "cell_type": "code",
   "execution_count": null,
   "id": "d6736af3",
   "metadata": {},
   "outputs": [],
   "source": [
    "# configs\n",
    "DATA_DIR = \"house_1_chunks\"\n",
    "TRAIN_FILE = os.path.join(DATA_DIR, \"train.csv\")\n",
    "TEST_FILE = os.path.join(DATA_DIR, \"test.csv\")\n",
    "MODEL_SAVE_PATH = \"models/eco_multilabel_model.pth\""
   ]
  },
  {
   "cell_type": "code",
   "execution_count": 9,
   "id": "7b0c0a54",
   "metadata": {},
   "outputs": [
    {
     "name": "stdout",
     "output_type": "stream",
     "text": [
      "Using device: cuda\n"
     ]
    }
   ],
   "source": [
    "DEVICE = torch.device(\"cuda\" if torch.cuda.is_available() else \"cpu\")\n",
    "print(f\"Using device: {DEVICE}\")"
   ]
  },
  {
   "cell_type": "code",
   "execution_count": null,
   "id": "c77c6585",
   "metadata": {},
   "outputs": [],
   "source": [
    "FEATURE_COLS = [\n",
    "    \"powerallphases\",\n",
    "    \"powerl1\",\n",
    "    \"powerl2\",\n",
    "    \"powerl3\",\n",
    "    \"currentneutral\",\n",
    "    \"currentl1\",\n",
    "    \"currentl2\",\n",
    "    \"currentl3\",\n",
    "    \"voltagel1\",\n",
    "    \"voltagel2\",\n",
    "    \"voltagel3\",\n",
    "    \"phaseanglevoltagel2l1\",\n",
    "    \"phaseanglevoltagel3l1\",\n",
    "    \"phaseanglecurrentvoltagel1\",\n",
    "    \"phaseanglecurrentvoltagel2\",\n",
    "    \"phaseanglecurrentvoltagel3\",\n",
    "]"
   ]
  },
  {
   "cell_type": "code",
   "execution_count": 8,
   "id": "37215bac",
   "metadata": {},
   "outputs": [],
   "source": [
    "TARGET_COLS = [\n",
    "    \"Fridge\",\n",
    "    \"Dryer\",\n",
    "    \"Coffee machine\",\n",
    "    \"Kettle\",\n",
    "    \"Washing machine\",\n",
    "    \"PC (including router)\",\n",
    "    \"Freezer\",\n",
    "]"
   ]
  },
  {
   "cell_type": "markdown",
   "id": "73b3a6d7",
   "metadata": {},
   "source": [
    "Dataset"
   ]
  },
  {
   "cell_type": "code",
   "execution_count": 15,
   "id": "2cc1a66d",
   "metadata": {},
   "outputs": [],
   "source": [
    "class EcoDataset(Dataset):\n",
    "    def __init__(\n",
    "        self, csv_file, feature_cols, target_cols, scaler=None, fit_scaler=False\n",
    "    ):\n",
    "        self.df = pd.read_csv(csv_file)\n",
    "        self.features = self.df[feature_cols].values.astype(np.float32)\n",
    "        self.targets = self.df[target_cols].values.astype(np.float32)\n",
    "\n",
    "        if scaler is None:\n",
    "            self.scaler = StandardScaler()\n",
    "            if fit_scaler:\n",
    "                self.features = self.scaler.fit_transform(self.features)\n",
    "            else:\n",
    "                self.features = self.scaler.transform(self.features)\n",
    "        else:\n",
    "            self.scaler = scaler\n",
    "            self.features = self.scaler.transform(self.features)\n",
    "\n",
    "    def __len__(self):\n",
    "        return len(self.df)\n",
    "\n",
    "    def __getitem__(self, idx):\n",
    "        x = torch.tensor(self.features[idx])\n",
    "        y = torch.tensor(self.targets[idx])\n",
    "        return x, y"
   ]
  },
  {
   "cell_type": "markdown",
   "id": "9e6681f6",
   "metadata": {},
   "source": [
    "model"
   ]
  },
  {
   "cell_type": "code",
   "execution_count": 14,
   "id": "c326e208",
   "metadata": {},
   "outputs": [],
   "source": [
    "class MultiLabelClassifier(nn.Module):\n",
    "    def __init__(self, input_dim, output_dim):\n",
    "        super(MultiLabelClassifier, self).__init__()\n",
    "        self.net = nn.Sequential(\n",
    "            nn.Linear(input_dim, 128),\n",
    "            nn.BatchNorm1d(128),\n",
    "            nn.ReLU(),\n",
    "            nn.Dropout(0.3),\n",
    "            nn.Linear(128, 64),\n",
    "            nn.BatchNorm1d(64),\n",
    "            nn.ReLU(),\n",
    "            nn.Dropout(0.2),\n",
    "            nn.Linear(64, output_dim),\n",
    "        )\n",
    "\n",
    "    def forward(self, x):\n",
    "        return self.net(x)\n"
   ]
  },
  {
   "cell_type": "markdown",
   "id": "94003761",
   "metadata": {},
   "source": [
    "metrics"
   ]
  },
  {
   "cell_type": "code",
   "execution_count": 12,
   "id": "06859bb0",
   "metadata": {},
   "outputs": [],
   "source": [
    "def calculate_metrics(y_true, y_pred, threshold=0.5):\n",
    "    y_pred_bin = (y_pred >= threshold).astype(int)\n",
    "\n",
    "    f1 = f1_score(y_true, y_pred_bin, average=\"macro\", zero_division=0)\n",
    "    recall = recall_score(y_true, y_pred_bin, average=\"macro\", zero_division=0)\n",
    "    precision = precision_score(y_true, y_pred_bin, average=\"macro\", zero_division=0)\n",
    "    accuracy = accuracy_score(y_true, y_pred_bin)\n",
    "\n",
    "    # mAP calculation: mean average precision over labels (use precision/recall curve)\n",
    "    # Here we do a simplified version: average of precisions\n",
    "    mAP = precision  # simplified proxy\n",
    "\n",
    "    return f1, recall, precision, accuracy, mAP, y_pred_bin"
   ]
  },
  {
   "cell_type": "code",
   "execution_count": 16,
   "id": "a97e568a",
   "metadata": {},
   "outputs": [],
   "source": [
    "def train_epoch(model, dataloader, criterion, optimizer): # train and test\n",
    "    model.train()\n",
    "    running_loss = 0\n",
    "    all_targets = []\n",
    "    all_preds = []\n",
    "    for x, y in tqdm(dataloader, desc=\"Training\", leave=False):\n",
    "        x, y = x.to(DEVICE), y.to(DEVICE)\n",
    "        optimizer.zero_grad()\n",
    "        raw_outputs = model(x)\n",
    "        outputs = torch.sigmoid(raw_outputs)\n",
    "        loss = criterion(outputs, y)\n",
    "        loss.backward()\n",
    "        optimizer.step()\n",
    "\n",
    "        running_loss += loss.item() * x.size(0)\n",
    "        all_targets.append(y.detach().cpu().numpy())\n",
    "        all_preds.append(outputs.detach().cpu().numpy())\n",
    "\n",
    "    epoch_loss = running_loss / len(dataloader.dataset)\n",
    "    all_targets = np.vstack(all_targets)\n",
    "    all_preds = np.vstack(all_preds)\n",
    "    f1, recall, precision, accuracy, mAP, _ = calculate_metrics(all_targets, all_preds)\n",
    "\n",
    "    return epoch_loss, f1, recall, precision, accuracy, mAP"
   ]
  },
  {
   "cell_type": "code",
   "execution_count": 17,
   "id": "13f59670",
   "metadata": {},
   "outputs": [],
   "source": [
    "def test_epoch(model, dataloader, criterion):\n",
    "    model.eval()\n",
    "    running_loss = 0\n",
    "    all_targets = []\n",
    "    all_preds = []\n",
    "    with torch.no_grad():\n",
    "        for x, y in tqdm(dataloader, desc=\"Testing\", leave=False):\n",
    "            x, y = x.to(DEVICE), y.to(DEVICE)\n",
    "            raw_outputs = model(x)\n",
    "            outputs = torch.sigmoid(raw_outputs)\n",
    "\n",
    "            loss = criterion(outputs, y)\n",
    "            running_loss += loss.item() * x.size(0)\n",
    "\n",
    "            all_targets.append(y.detach().cpu().numpy())\n",
    "            all_preds.append(outputs.detach().cpu().numpy())\n",
    "\n",
    "    epoch_loss = running_loss / len(dataloader.dataset)\n",
    "    all_targets = np.vstack(all_targets)\n",
    "    all_preds = np.vstack(all_preds)\n",
    "    f1, recall, precision, accuracy, mAP, y_pred_bin = calculate_metrics(\n",
    "        all_targets, all_preds\n",
    "    )\n",
    "\n",
    "    true_bin = all_targets.astype(int)\n",
    "    pred_bin = y_pred_bin.astype(int)\n",
    "\n",
    "    assert true_bin.shape == pred_bin.shape\n",
    "    print(\"\\n=== Classification Report (Test) ===\")\n",
    "    print(\n",
    "        classification_report(\n",
    "            true_bin, pred_bin, target_names=TARGET_COLS, zero_division=0\n",
    "        )\n",
    "    )\n",
    "\n",
    "    return epoch_loss, f1, recall, precision, accuracy, mAP"
   ]
  },
  {
   "cell_type": "code",
   "execution_count": null,
   "id": "c43d4ee3",
   "metadata": {},
   "outputs": [],
   "source": []
  },
  {
   "cell_type": "code",
   "execution_count": null,
   "id": "86ef2c04",
   "metadata": {},
   "outputs": [],
   "source": []
  }
 ],
 "metadata": {
  "kernelspec": {
   "display_name": "nilm",
   "language": "python",
   "name": "python3"
  },
  "language_info": {
   "codemirror_mode": {
    "name": "ipython",
    "version": 3
   },
   "file_extension": ".py",
   "mimetype": "text/x-python",
   "name": "python",
   "nbconvert_exporter": "python",
   "pygments_lexer": "ipython3",
   "version": "3.11.13"
  }
 },
 "nbformat": 4,
 "nbformat_minor": 5
}
